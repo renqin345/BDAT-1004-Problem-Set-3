{
 "cells": [
  {
   "cell_type": "markdown",
   "id": "8d4a57bc",
   "metadata": {},
   "source": [
    "# Question 1\n",
    "Introduction:\n",
    "Special thanks to: https://github.com/justmarkham for sharing the dataset and \n",
    "materials.\n",
    "Occupations\n",
    "Step 1. Import the necessary libraries\n",
    "Step 2. Import the dataset from this address.\n",
    "Step 3. Assign it to a variable called users\n",
    "Step 4. Discover what is the mean age per occupation\n",
    "Step 5. Discover the Male ratio per occupation and sort it from the most to the least\n",
    "Step 6. For each occupation, calculate the minimum and maximum ages\n",
    "Step 7. For each combination of occupation and sex, calculate the mean age\n",
    "Step 8. For each occupation present the percentage of women and men\n"
   ]
  },
  {
   "cell_type": "code",
   "execution_count": 20,
   "id": "ba6220a0",
   "metadata": {},
   "outputs": [],
   "source": [
    "#Step 1. Import the necessary libraries\n",
    "import pandas as pd\n",
    "# step 2 & 3. internet connection to download the data\n",
    "data_url = 'https://raw.githubusercontent.com/justmarkham/DAT8/master/data/u.user'\n",
    "users = pd.read_csv(data_url, sep='|', index_col='user_id')\n"
   ]
  },
  {
   "cell_type": "code",
   "execution_count": 289,
   "id": "eafa73a2",
   "metadata": {},
   "outputs": [
    {
     "name": "stdout",
     "output_type": "stream",
     "text": [
      "       occupation  mean_age\n",
      "0   administrator     38.75\n",
      "1          artist     31.39\n",
      "2          doctor     43.57\n",
      "3        educator     42.01\n",
      "4        engineer     36.39\n",
      "5   entertainment     29.22\n",
      "6       executive     38.72\n",
      "7      healthcare     41.56\n",
      "8       homemaker     32.57\n",
      "9          lawyer     36.75\n",
      "10      librarian     40.00\n",
      "11      marketing     37.62\n",
      "12           none     26.56\n",
      "13          other     34.52\n",
      "14     programmer     33.12\n",
      "15        retired     63.07\n",
      "16       salesman     35.67\n",
      "17      scientist     35.55\n",
      "18        student     22.08\n",
      "19     technician     33.15\n",
      "20         writer     36.31\n"
     ]
    }
   ],
   "source": [
    "#Step 4.Discover the mean age per occupation\n",
    "mean_age_by_occupation = users.groupby('occupation')['age'].mean().reset_index()\n",
    "mean_age_by_occupation.columns = ['occupation', 'mean_age']\n",
    "\n",
    "print(mean_age_by_occupation)"
   ]
  },
  {
   "cell_type": "code",
   "execution_count": 290,
   "id": "fd864ea7",
   "metadata": {},
   "outputs": [
    {
     "name": "stdout",
     "output_type": "stream",
     "text": [
      "       occupation male_ratio\n",
      "0          doctor    100.00%\n",
      "1        engineer     97.01%\n",
      "2      technician     96.30%\n",
      "3         retired     92.86%\n",
      "4      programmer     90.91%\n",
      "5       executive     90.62%\n",
      "6       scientist     90.32%\n",
      "7   entertainment     88.89%\n",
      "8          lawyer     83.33%\n",
      "9        salesman     75.00%\n",
      "10       educator     72.63%\n",
      "11        student     69.39%\n",
      "12          other     65.71%\n",
      "13      marketing     61.54%\n",
      "14         writer     57.78%\n",
      "15           none     55.56%\n",
      "16  administrator     54.43%\n",
      "17         artist     53.57%\n",
      "18      librarian     43.14%\n",
      "19     healthcare     31.25%\n",
      "20      homemaker     14.29%\n"
     ]
    }
   ],
   "source": [
    "#Step 5.Discover what is the mean age per occupation\n",
    "def male_ratio(gender):\n",
    "    if gender == 'M':\n",
    "        return 1\n",
    "    elif gender == 'F':\n",
    "        return 0\n",
    "\n",
    "users['male_ratio'] = users['gender'].apply(male_ratio)\n",
    "male_ratio_by_occupation = users.groupby('occupation')['male_ratio'].mean().sort_values(ascending=False).reset_index()\n",
    "male_ratio_by_occupation['male_ratio'] = (male_ratio_by_occupation['male_ratio'] * 100).map(\"{:.2f}%\".format)\n",
    "male_ratio_by_occupation.columns = ['occupation', 'male_ratio']\n",
    "\n",
    "print(male_ratio_by_occupation)"
   ]
  },
  {
   "cell_type": "code",
   "execution_count": 291,
   "id": "077de9f1",
   "metadata": {},
   "outputs": [
    {
     "name": "stdout",
     "output_type": "stream",
     "text": [
      "       occupation  min_age  max_age\n",
      "0   administrator       21       70\n",
      "1          artist       19       48\n",
      "2          doctor       28       64\n",
      "3        educator       23       63\n",
      "4        engineer       22       70\n",
      "5   entertainment       15       50\n",
      "6       executive       22       69\n",
      "7      healthcare       22       62\n",
      "8       homemaker       20       50\n",
      "9          lawyer       21       53\n",
      "10      librarian       23       69\n",
      "11      marketing       24       55\n",
      "12           none       11       55\n",
      "13          other       13       64\n",
      "14     programmer       20       63\n",
      "15        retired       51       73\n",
      "16       salesman       18       66\n",
      "17      scientist       23       55\n",
      "18        student        7       42\n",
      "19     technician       21       55\n",
      "20         writer       18       60\n"
     ]
    }
   ],
   "source": [
    "#Step 6. For each occupation, calculate the minimum and maximum ages\n",
    "min_max_age_by_occupation = users.groupby('occupation')['age'].agg(['min', 'max']).reset_index()\n",
    "min_max_age_by_occupation.columns = ['occupation', 'min_age', 'max_age']\n",
    "\n",
    "print(min_max_age_by_occupation)"
   ]
  },
  {
   "cell_type": "code",
   "execution_count": 292,
   "id": "949ab995",
   "metadata": {},
   "outputs": [
    {
     "name": "stdout",
     "output_type": "stream",
     "text": [
      "       occupation     F     M\n",
      "0   administrator 40.64 37.16\n",
      "1          artist 30.31 32.33\n",
      "2          doctor   NaN 43.57\n",
      "3        educator 39.12 43.10\n",
      "4        engineer 29.50 36.60\n",
      "5   entertainment 31.00 29.00\n",
      "6       executive 44.00 38.17\n",
      "7      healthcare 39.82 45.40\n",
      "8       homemaker 34.17 23.00\n",
      "9          lawyer 39.50 36.20\n",
      "10      librarian 40.00 40.00\n",
      "11      marketing 37.20 37.88\n",
      "12           none 36.50 18.60\n",
      "13          other 35.47 34.03\n",
      "14     programmer 32.17 33.22\n",
      "15        retired 70.00 62.54\n",
      "16       salesman 27.00 38.56\n",
      "17      scientist 28.33 36.32\n",
      "18        student 20.75 22.67\n",
      "19     technician 38.00 32.96\n",
      "20         writer 37.63 35.35\n"
     ]
    }
   ],
   "source": [
    "#Step 7. For each combination of occupation and sex, calculate the mean age\n",
    "mean_age_by_occupation_sex = users.groupby(['occupation', 'gender'])['age'].mean().reset_index()\n",
    "mean_age_by_occupation_sex.columns = ['occupation', 'gender', 'mean_age']\n",
    "\n",
    "# Using pivot_table to reshape the data and set the 'gender' header\n",
    "mean_age_pivot = mean_age_by_occupation_sex.pivot_table(index='occupation', columns='gender', values='mean_age').reset_index()\n",
    "mean_age_pivot.rename_axis(None, axis=1, inplace=True)\n",
    "\n",
    "print(mean_age_pivot)"
   ]
  },
  {
   "cell_type": "code",
   "execution_count": 293,
   "id": "46a7da83",
   "metadata": {},
   "outputs": [
    {
     "name": "stdout",
     "output_type": "stream",
     "text": [
      "       occupation male_percentage female_percentage\n",
      "0   administrator          54.43%            45.57%\n",
      "1          artist          53.57%            46.43%\n",
      "2          doctor         100.00%             0.00%\n",
      "3        educator          72.63%            27.37%\n",
      "4        engineer          97.01%             2.99%\n",
      "5   entertainment          88.89%            11.11%\n",
      "6       executive          90.62%             9.38%\n",
      "7      healthcare          31.25%            68.75%\n",
      "8       homemaker          14.29%            85.71%\n",
      "9          lawyer          83.33%            16.67%\n",
      "10      librarian          43.14%            56.86%\n",
      "11      marketing          61.54%            38.46%\n",
      "12           none          55.56%            44.44%\n",
      "13          other          65.71%            34.29%\n",
      "14     programmer          90.91%             9.09%\n",
      "15        retired          92.86%             7.14%\n",
      "16       salesman          75.00%            25.00%\n",
      "17      scientist          90.32%             9.68%\n",
      "18        student          69.39%            30.61%\n",
      "19     technician          96.30%             3.70%\n",
      "20         writer          57.78%            42.22%\n"
     ]
    }
   ],
   "source": [
    "#Step 8.For each occupation present the percentage of women and men\n",
    "total_by_occupation = users.groupby('occupation')['gender'].count()\n",
    "male_count_by_occupation = users[users['gender'] == 'M'].groupby('occupation')['gender'].count()\n",
    "female_count_by_occupation = total_by_occupation - male_count_by_occupation\n",
    "\n",
    "percentage_by_occupation = pd.DataFrame({\n",
    "    'male_percentage': (male_count_by_occupation / total_by_occupation * 100),\n",
    "    'female_percentage': (female_count_by_occupation / total_by_occupation * 100)\n",
    "}).reset_index()\n",
    "\n",
    "# Add '%' symbol after the percentages\n",
    "percentage_by_occupation['male_percentage'] = percentage_by_occupation['male_percentage'].map(\"{:.2f}%\".format)\n",
    "percentage_by_occupation['female_percentage'] = percentage_by_occupation['female_percentage'].map(\"{:.2f}%\".format)\n",
    "\n",
    "print(percentage_by_occupation)"
   ]
  },
  {
   "cell_type": "markdown",
   "id": "81c5cbbd",
   "metadata": {},
   "source": [
    "# Question 2\n",
    "Euro Teams\n",
    "Step 1. Import the necessary libraries\n",
    "Step 2. Import the dataset from this address\n",
    "Step 3. Assign it to a variable called euro12\n",
    "Step 4. Select only the Goal column\n",
    "Step 5. How many team participated in the Euro2012?\n",
    "Step 6. What is the number of columns in the dataset?\n",
    "Step 7. View only the columns Team, Yellow Cards and Red Cards and assign them to a dataframe called discipline\n",
    "Step 8. Sort the teams by Red Cards, then to Yellow Cards\n",
    "Step 9. Calculate the mean Yellow Cards given per Team\n",
    "Step 10. Filter teams that scored more than 6 goals\n",
    "Step 11. Select the teams that start with G \n",
    "Step 12. Select the first 7 columns\n",
    "Step 13. Select all columns except the last 3\n",
    "Step 14. Present only the Shooting Accuracy from England, Italy and Russia"
   ]
  },
  {
   "cell_type": "code",
   "execution_count": 169,
   "id": "18c6c9b9",
   "metadata": {},
   "outputs": [],
   "source": [
    "# Step 1: Import the necessary libraries\n",
    "import pandas as pd\n",
    "\n",
    "# Step 2 & 3: Import the dataset from the given address\n",
    "url = \"https://raw.githubusercontent.com/guipsamora/pandas_exercises/master/02_Filtering_%26_Sorting/Euro12/Euro_2012_stats_TEAM.csv\"\n",
    "euro12 = pd.read_csv(url)\n"
   ]
  },
  {
   "cell_type": "code",
   "execution_count": 191,
   "id": "325537f2",
   "metadata": {},
   "outputs": [
    {
     "name": "stdout",
     "output_type": "stream",
     "text": [
      " Goals\n",
      "     4\n",
      "     4\n",
      "     4\n",
      "     5\n",
      "     3\n",
      "    10\n",
      "     5\n",
      "     6\n",
      "     2\n",
      "     2\n",
      "     6\n",
      "     1\n",
      "     5\n",
      "    12\n",
      "     5\n",
      "     2\n"
     ]
    }
   ],
   "source": [
    "# Step 4: Select only the 'Goal' column\n",
    "goals_column = euro12['Goals']\n",
    "\n",
    "# Display the output\n",
    "print(goals_column.to_frame().to_string(index=False))"
   ]
  },
  {
   "cell_type": "code",
   "execution_count": 187,
   "id": "e19e5587",
   "metadata": {},
   "outputs": [
    {
     "name": "stdout",
     "output_type": "stream",
     "text": [
      "Number of teams participated in Euro2012: 16\n"
     ]
    }
   ],
   "source": [
    "# Step 5: How many teams participated in Euro2012?\n",
    "num_teams_participated = euro12['Team'].nunique()\n",
    "print(\"Number of teams participated in Euro2012:\", num_teams_participated)"
   ]
  },
  {
   "cell_type": "code",
   "execution_count": 186,
   "id": "7044ddfa",
   "metadata": {},
   "outputs": [
    {
     "name": "stdout",
     "output_type": "stream",
     "text": [
      "Number of columns in the dataset: 35\n"
     ]
    }
   ],
   "source": [
    "# Step 6: What is the number of columns in the dataset?\n",
    "num_columns = len(euro12.columns)\n",
    "print(\"Number of columns in the dataset:\", num_columns)"
   ]
  },
  {
   "cell_type": "code",
   "execution_count": 294,
   "id": "f69f5494",
   "metadata": {},
   "outputs": [
    {
     "name": "stdout",
     "output_type": "stream",
     "text": [
      "DataFrame 'discipline' containing Team, Yellow Cards, and Red Cards:\n",
      "                   Team  Yellow Cards  Red Cards\n",
      "0               Croatia             9          0\n",
      "1        Czech Republic             7          0\n",
      "2               Denmark             4          0\n",
      "3               England             5          0\n",
      "4                France             6          0\n",
      "5               Germany             4          0\n",
      "6                Greece             9          1\n",
      "7                 Italy            16          0\n",
      "8           Netherlands             5          0\n",
      "9                Poland             7          1\n",
      "10             Portugal            12          0\n",
      "11  Republic of Ireland             6          1\n",
      "12               Russia             6          0\n",
      "13                Spain            11          0\n",
      "14               Sweden             7          0\n",
      "15              Ukraine             5          0\n"
     ]
    }
   ],
   "source": [
    "# Step 7: View only the columns Team, Yellow Cards, and Red Cards and assign them to a dataframe called discipline\n",
    "discipline = euro12[['Team', 'Yellow Cards', 'Red Cards']]\n",
    "\n",
    "print(\"DataFrame 'discipline' containing Team, Yellow Cards, and Red Cards:\")\n",
    "print(discipline)"
   ]
  },
  {
   "cell_type": "code",
   "execution_count": 295,
   "id": "c9c3f395",
   "metadata": {},
   "outputs": [
    {
     "name": "stdout",
     "output_type": "stream",
     "text": [
      "DataFrame 'discipline' sorted by Red Cards:\n",
      "                   Team  Yellow Cards  Red Cards\n",
      "0                Greece             9          1\n",
      "1                Poland             7          1\n",
      "2   Republic of Ireland             6          1\n",
      "3               Croatia             9          0\n",
      "4        Czech Republic             7          0\n",
      "5               Denmark             4          0\n",
      "6               England             5          0\n",
      "7                France             6          0\n",
      "8               Germany             4          0\n",
      "9                 Italy            16          0\n",
      "10          Netherlands             5          0\n",
      "11             Portugal            12          0\n",
      "12               Russia             6          0\n",
      "13                Spain            11          0\n",
      "14               Sweden             7          0\n",
      "15              Ukraine             5          0\n"
     ]
    }
   ],
   "source": [
    "# Step 8:Sort the DataFrame by Red Cards in descending order\n",
    "sorted_by_red_cards = discipline.sort_values('Red Cards', ascending=False)\n",
    "\n",
    "# Resetting the index to start from 1\n",
    "sorted_by_red_cards.reset_index(drop=True, inplace=True)\n",
    "\n",
    "print(\"DataFrame 'discipline' sorted by Red Cards:\")\n",
    "print(sorted_by_red_cards)"
   ]
  },
  {
   "cell_type": "code",
   "execution_count": 296,
   "id": "529d8867",
   "metadata": {},
   "outputs": [
    {
     "name": "stdout",
     "output_type": "stream",
     "text": [
      "DataFrame 'discipline' sorted by Yellow Cards:\n",
      "                   Team  Yellow Cards  Red Cards\n",
      "0                 Italy            16          0\n",
      "1              Portugal            12          0\n",
      "2                 Spain            11          0\n",
      "3               Croatia             9          0\n",
      "4                Greece             9          1\n",
      "5        Czech Republic             7          0\n",
      "6                Poland             7          1\n",
      "7                Sweden             7          0\n",
      "8                France             6          0\n",
      "9   Republic of Ireland             6          1\n",
      "10               Russia             6          0\n",
      "11              England             5          0\n",
      "12          Netherlands             5          0\n",
      "13              Ukraine             5          0\n",
      "14              Denmark             4          0\n",
      "15              Germany             4          0\n"
     ]
    }
   ],
   "source": [
    "# Step 8:Sort the DataFrame by Yellow Cards in descending order\n",
    "sorted_by_yellow_cards = discipline.sort_values('Yellow Cards', ascending=False)\n",
    "\n",
    "# Resetting the index to start from 1\n",
    "sorted_by_yellow_cards.reset_index(drop=True, inplace=True)\n",
    "\n",
    "print(\"DataFrame 'discipline' sorted by Yellow Cards:\")\n",
    "print(sorted_by_yellow_cards)"
   ]
  },
  {
   "cell_type": "code",
   "execution_count": 182,
   "id": "7ea3062b",
   "metadata": {},
   "outputs": [
    {
     "name": "stdout",
     "output_type": "stream",
     "text": [
      "Mean Yellow Cards given per Team: 7.4375\n"
     ]
    }
   ],
   "source": [
    "# Step 9: Calculate the mean Yellow Cards given per Team\n",
    "mean_yellow_cards_per_team = discipline['Yellow Cards'].mean()\n",
    "print(\"Mean Yellow Cards given per Team:\", mean_yellow_cards_per_team)"
   ]
  },
  {
   "cell_type": "code",
   "execution_count": 297,
   "id": "2868dabe",
   "metadata": {},
   "outputs": [
    {
     "name": "stdout",
     "output_type": "stream",
     "text": [
      "Teams that scored more than 6 goals:\n",
      "      Team  Goals Scored\n",
      "0  Germany            10\n",
      "1    Spain            12\n"
     ]
    }
   ],
   "source": [
    "# Step 10: Filter teams that scored more than 6 goals\n",
    "teams_with_more_than_6_goals = euro12[euro12['Goals'] > 6]\n",
    "\n",
    "# Formatting the output for Step 10\n",
    "formatted_output_step10 = teams_with_more_than_6_goals[['Team', 'Goals']].reset_index(drop=True)\n",
    "formatted_output_step10.columns = ['Team', 'Goals Scored']\n",
    "\n",
    "print(\"Teams that scored more than 6 goals:\")\n",
    "print(formatted_output_step10)"
   ]
  },
  {
   "cell_type": "code",
   "execution_count": 298,
   "id": "15550ec2",
   "metadata": {},
   "outputs": [
    {
     "name": "stdout",
     "output_type": "stream",
     "text": [
      "Teams that start with 'G':\n",
      "     Teams\n",
      "0  Germany\n",
      "1   Greece\n"
     ]
    }
   ],
   "source": [
    "# Step 11: Select the teams that start with G\n",
    "teams_starting_with_G = euro12[euro12['Team'].str.startswith('G')]\n",
    "\n",
    "# Extracting only the 'Team' column for output\n",
    "teams_with_G = teams_starting_with_G['Team'].reset_index(drop=True)\n",
    "\n",
    "# Creating a new DataFrame with the index starting from 1\n",
    "teams_with_G_df = teams_with_G.to_frame(name='Teams')\n",
    "\n",
    "print(\"Teams that start with 'G':\")\n",
    "print(teams_with_G_df)"
   ]
  },
  {
   "cell_type": "code",
   "execution_count": 176,
   "id": "208d750b",
   "metadata": {},
   "outputs": [
    {
     "name": "stdout",
     "output_type": "stream",
     "text": [
      "\n",
      "DataFrame with first 7 columns:\n",
      "Team                 Goals    Shots on target    Shots off target    Shooting Accuracy    % Goals-to-shots    Total shots (inc. Blocked)\n",
      "Croatia              4        13                 12                  51.9%                16.0%               32\n",
      "Czech Republic       4        13                 18                  41.9%                12.9%               39\n",
      "Denmark              4        10                 10                  50.0%                20.0%               27\n",
      "England              5        11                 18                  50.0%                17.2%               40\n",
      "France               3        22                 24                  37.9%                6.5%                65\n",
      "Germany              10       32                 32                  47.8%                15.6%               80\n",
      "Greece               5        8                  18                  30.7%                19.2%               32\n",
      "Italy                6        34                 45                  43.0%                7.5%                110\n",
      "Netherlands          2        12                 36                  25.0%                4.1%                60\n",
      "Poland               2        15                 23                  39.4%                5.2%                48\n",
      "Portugal             6        22                 42                  34.3%                9.3%                82\n",
      "Republic of Ireland  1        7                  12                  36.8%                5.2%                28\n",
      "Russia               5        9                  31                  22.5%                12.5%               59\n",
      "Spain                12       42                 33                  55.9%                16.0%               100\n",
      "Sweden               5        17                 19                  47.2%                13.8%               39\n",
      "Ukraine              2        7                  26                  21.2%                6.0%                38\n"
     ]
    }
   ],
   "source": [
    "# Step 12: Select the first 7 columns\n",
    "\n",
    "# Importing the tabulate library\n",
    "from tabulate import tabulate\n",
    "\n",
    "first_7_columns = euro12.iloc[:, :7]\n",
    "first_7_columns.reset_index(drop=True, inplace=True)\n",
    "\n",
    "# Display the DataFrame with a neater format\n",
    "print(\"\\nDataFrame with first 7 columns:\")\n",
    "print(tabulate(first_7_columns, headers='keys', tablefmt='plain', numalign='left', stralign='left', showindex=False))"
   ]
  },
  {
   "cell_type": "code",
   "execution_count": 177,
   "id": "17bfc3c0",
   "metadata": {},
   "outputs": [
    {
     "name": "stdout",
     "output_type": "stream",
     "text": [
      "\n",
      "DataFrame with all columns except the last 3:\n",
      "Team                 Goals    Shots on target    Shots off target    Shooting Accuracy    % Goals-to-shots    Total shots (inc. Blocked)    Hit Woodwork    Penalty goals    Penalties not scored    Headed goals    Passes    Passes completed    Passing Accuracy    Touches    Crosses    Dribbles    Corners Taken    Tackles    Clearances    Interceptions    Clearances off line    Clean Sheets    Blocks    Goals conceded    Saves made    Saves-to-shots ratio    Fouls Won    Fouls Conceded    Offsides    Yellow Cards    Red Cards\n",
      "Croatia              4        13                 12                  51.9%                16.0%               32                            0               0                0                       2               1076      828                 76.9%               1706       60         42          14               49         83            56               nan                    0               10        3                 13            81.3%                   41           62                2           9               0\n",
      "Czech Republic       4        13                 18                  41.9%                12.9%               39                            0               0                0                       0               1565      1223                78.1%               2358       46         68          21               62         98            37               2                      1               10        6                 9             60.1%                   53           73                8           7               0\n",
      "Denmark              4        10                 10                  50.0%                20.0%               27                            1               0                0                       3               1298      1082                83.3%               1873       43         32          16               40         61            59               0                      1               10        5                 10            66.7%                   25           38                8           4               0\n",
      "England              5        11                 18                  50.0%                17.2%               40                            0               0                0                       3               1488      1200                80.6%               2440       58         60          16               86         106           72               1                      2               29        3                 22            88.1%                   43           45                6           5               0\n",
      "France               3        22                 24                  37.9%                6.5%                65                            1               0                0                       0               2066      1803                87.2%               2909       55         76          28               71         76            58               0                      1               7         5                 6             54.6%                   36           51                5           6               0\n",
      "Germany              10       32                 32                  47.8%                15.6%               80                            2               1                0                       2               2774      2427                87.4%               3761       101        60          35               91         73            69               0                      1               11        6                 10            62.6%                   63           49                12          4               0\n",
      "Greece               5        8                  18                  30.7%                19.2%               32                            1               1                1                       0               1187      911                 76.7%               2016       52         53          10               65         123           87               0                      1               23        7                 13            65.1%                   67           48                12          9               1\n",
      "Italy                6        34                 45                  43.0%                7.5%                110                           2               0                0                       2               3016      2531                83.9%               4363       75         75          30               98         137           136              1                      2               18        7                 20            74.1%                   101          89                16          16              0\n",
      "Netherlands          2        12                 36                  25.0%                4.1%                60                            2               0                0                       0               1556      1381                88.7%               2163       50         49          22               34         41            41               0                      0               9         5                 12            70.6%                   35           30                3           5               0\n",
      "Poland               2        15                 23                  39.4%                5.2%                48                            0               0                0                       1               1059      852                 80.4%               1724       55         39          14               67         87            62               0                      0               8         3                 6             66.7%                   48           56                3           7               1\n",
      "Portugal             6        22                 42                  34.3%                9.3%                82                            6               0                0                       2               1891      1461                77.2%               2958       91         64          41               78         92            86               0                      2               11        4                 10            71.5%                   73           90                10          12              0\n",
      "Republic of Ireland  1        7                  12                  36.8%                5.2%                28                            0               0                0                       1               851       606                 71.2%               1433       43         18          8                45         78            43               1                      0               23        9                 17            65.4%                   43           51                11          6               1\n",
      "Russia               5        9                  31                  22.5%                12.5%               59                            2               0                0                       1               1602      1345                83.9%               2278       40         40          21               65         74            58               0                      0               8         3                 10            77.0%                   34           43                4           6               0\n",
      "Spain                12       42                 33                  55.9%                16.0%               100                           0               1                0                       2               4317      3820                88.4%               5585       69         106         44               122        102           79               0                      5               8         1                 15            93.8%                   102          83                19          11              0\n",
      "Sweden               5        17                 19                  47.2%                13.8%               39                            3               0                0                       1               1192      965                 80.9%               1806       44         29          7                56         54            45               0                      1               12        5                 8             61.6%                   35           51                7           7               0\n",
      "Ukraine              2        7                  26                  21.2%                6.0%                38                            0               0                0                       2               1276      1043                81.7%               1894       33         26          18               65         97            29               0                      0               4         4                 13            76.5%                   48           31                4           5               0\n"
     ]
    }
   ],
   "source": [
    "# Step 13: Select all columns except the last 3\n",
    "all_columns_except_last_3 = euro12.iloc[:, :-3]\n",
    "\n",
    "# Display the DataFrame with a neater format\n",
    "print(\"\\nDataFrame with all columns except the last 3:\")\n",
    "print(tabulate(all_columns_except_last_3, headers='keys', tablefmt='plain', numalign='left', stralign='left', showindex=False))"
   ]
  },
  {
   "cell_type": "code",
   "execution_count": 179,
   "id": "70af5dad",
   "metadata": {},
   "outputs": [
    {
     "name": "stdout",
     "output_type": "stream",
     "text": [
      "Shooting Accuracy from England, Italy, and Russia:\n",
      "Team       Shooting Accuracy\n",
      "England                50.0%\n",
      "Italy                  43.0%\n",
      "Russia                 22.5%\n"
     ]
    }
   ],
   "source": [
    "# Step 14: Filter rows for England, Italy, and Russia, and select the \"Shooting Accuracy\" column\n",
    "selected_countries = euro12[euro12['Team'].isin(['England', 'Italy', 'Russia'])][['Team', 'Shooting Accuracy']]\n",
    "\n",
    "# Display the DataFrame with a neater format\n",
    "print(\"Shooting Accuracy from England, Italy, and Russia:\")\n",
    "print(tabulate(selected_countries, headers='keys', tablefmt='plain', numalign='left', stralign='left', showindex=False, colalign=(\"left\", \"right\")))"
   ]
  },
  {
   "cell_type": "markdown",
   "id": "aa172b89",
   "metadata": {},
   "source": [
    "# Question 3\n",
    "Housing\n",
    "Step 1. Import the necessary libraries\n",
    "Step 2. Create 3 differents Series, each of length 100, as follows:\n",
    "• The first a random number from 1 to 4\n",
    "• The second a random number from 1 to 3\n",
    "• The third a random number from 10,000 to 30,000\n",
    "Step 3. Create a DataFrame by joinning the Series by column\n",
    "Step 4. Change the name of the columns to bedrs, bathrs, price_sqr_meter\n",
    "Step 5. Create a one column DataFrame with the values of the 3 Series and assign it \n",
    "to 'bigcolumn'\n",
    "Step 6. Ops it seems it is going only until index 99. Is it true?\n",
    "Step 7. Reindex the DataFrame so it goes from 0 to 299"
   ]
  },
  {
   "cell_type": "code",
   "execution_count": 281,
   "id": "0e961bdc",
   "metadata": {},
   "outputs": [
    {
     "name": "stdout",
     "output_type": "stream",
     "text": [
      "Three different Series:\n",
      "Series 1 (bedrs):\n",
      " 0     4\n",
      "1     3\n",
      "2     2\n",
      "3     1\n",
      "4     4\n",
      "     ..\n",
      "95    4\n",
      "96    3\n",
      "97    1\n",
      "98    3\n",
      "99    2\n",
      "Length: 100, dtype: int32\n",
      "\n",
      "Series 2 (bathrs):\n",
      " 0     3\n",
      "1     1\n",
      "2     2\n",
      "3     3\n",
      "4     2\n",
      "     ..\n",
      "95    2\n",
      "96    3\n",
      "97    1\n",
      "98    3\n",
      "99    2\n",
      "Length: 100, dtype: int32\n",
      "\n",
      "Series 3 (price_sqr_meter):\n",
      " 0     21337\n",
      "1     27381\n",
      "2     21373\n",
      "3     19052\n",
      "4     29251\n",
      "      ...  \n",
      "95    14078\n",
      "96    12702\n",
      "97    19866\n",
      "98    26842\n",
      "99    13219\n",
      "Length: 100, dtype: int32\n"
     ]
    }
   ],
   "source": [
    "# Step 1: Import the necessary libraries\n",
    "import numpy as np\n",
    "import pandas as pd\n",
    "\n",
    "# Step 2: Create 3 different Series\n",
    "# Generate random numbers for each series\n",
    "series1 = pd.Series(np.random.randint(1, 5, size=100))\n",
    "series2 = pd.Series(np.random.randint(1, 4, size=100))\n",
    "series3 = pd.Series(np.random.randint(10000, 30001, size=100))\n",
    "\n",
    "# Verification print for each step:\n",
    "print(\"Three different Series:\")\n",
    "print(\"Series 1 (bedrs):\\n\", series1)\n",
    "print(\"\\nSeries 2 (bathrs):\\n\", series2)\n",
    "print(\"\\nSeries 3 (price_sqr_meter):\\n\", series3)\n"
   ]
  },
  {
   "cell_type": "code",
   "execution_count": 282,
   "id": "0c4798ac",
   "metadata": {},
   "outputs": [
    {
     "name": "stdout",
     "output_type": "stream",
     "text": [
      " DataFrame:\n",
      "   bedrs  bathrs  price_sqr_meter\n",
      "0      4       3            21337\n",
      "1      3       1            27381\n",
      "2      2       2            21373\n",
      "3      1       3            19052\n",
      "4      4       2            29251\n"
     ]
    }
   ],
   "source": [
    "# Step 3: Create a DataFrame by joining the Series by column\n",
    "df = pd.DataFrame({'bedrs': series1, 'bathrs': series2, 'price_sqr_meter': series3})\n",
    "\n",
    "print(\" DataFrame:\")\n",
    "print(df.head())"
   ]
  },
  {
   "cell_type": "code",
   "execution_count": 283,
   "id": "1a7ada87",
   "metadata": {},
   "outputs": [
    {
     "name": "stdout",
     "output_type": "stream",
     "text": [
      " DataFrame with renamed columns:\n",
      "   bedrs  bathrs  price_sqr_meter\n",
      "0      4       3            21337\n",
      "1      3       1            27381\n",
      "2      2       2            21373\n",
      "3      1       3            19052\n",
      "4      4       2            29251\n"
     ]
    }
   ],
   "source": [
    "# Step 4: Change the name of the columns to bedrs, bathrs, price_sqr_meter\n",
    "df.columns = ['bedrs', 'bathrs', 'price_sqr_meter']\n",
    "\n",
    "print(\" DataFrame with renamed columns:\")\n",
    "print(df.head())"
   ]
  },
  {
   "cell_type": "code",
   "execution_count": 284,
   "id": "9725cfda",
   "metadata": {},
   "outputs": [
    {
     "name": "stdout",
     "output_type": "stream",
     "text": [
      "One column DataFrame 'bigcolumn':\n",
      "   0\n",
      "0  4\n",
      "1  3\n",
      "2  2\n",
      "3  1\n",
      "4  4\n"
     ]
    }
   ],
   "source": [
    "# Step 5: Create a one column DataFrame with the values of the 3 Series\n",
    "bigcolumn = pd.DataFrame(pd.concat([series1, series2, series3], ignore_index=True))\n",
    "\n",
    "print(\"One column DataFrame 'bigcolumn':\")\n",
    "print(bigcolumn.head())\n"
   ]
  },
  {
   "cell_type": "code",
   "execution_count": 288,
   "id": "8179223a",
   "metadata": {},
   "outputs": [
    {
     "name": "stdout",
     "output_type": "stream",
     "text": [
      "Is it true that bigcolumn goes only until index 99?\n",
      "False\n",
      "Is it true that bigcolumn goes from 0 to 299? True\n"
     ]
    }
   ],
   "source": [
    "# Step 6: Check if it is going only until index 99\n",
    "print(\"Is it true that bigcolumn goes only until index 99?\")\n",
    "print(bigcolumn.index.max() == 99)\n",
    "\n",
    "# Verification for the index range\n",
    "print(\"Is it true that bigcolumn goes from 0 to 299?\", bigcolumn.index.max() == 299)"
   ]
  },
  {
   "cell_type": "code",
   "execution_count": 286,
   "id": "7882ba07",
   "metadata": {},
   "outputs": [
    {
     "name": "stdout",
     "output_type": "stream",
     "text": [
      "Reindexed DataFrame 'bigcolumn':\n",
      "   0\n",
      "0  4\n",
      "1  3\n",
      "2  2\n",
      "3  1\n",
      "4  4\n",
      "...\n",
      "         0\n",
      "295  14078\n",
      "296  12702\n",
      "297  19866\n",
      "298  26842\n",
      "299  13219\n"
     ]
    }
   ],
   "source": [
    "# Step 7: Reindex the DataFrame so it goes from 0 to 299\n",
    "bigcolumn.reset_index(drop=True, inplace=True)\n",
    "\n",
    "print(\"Reindexed DataFrame 'bigcolumn':\")\n",
    "print(bigcolumn.head())\n",
    "print(\"...\")  # Print some of the last rows to verify reindexing\n",
    "print(bigcolumn.tail())"
   ]
  },
  {
   "cell_type": "markdown",
   "id": "c611e949",
   "metadata": {},
   "source": [
    "# Question 4\n",
    "Wind Statistics \n",
    "The data have been modified to contain some missing values, identified by NaN.\n",
    "Using pandas should make this exercise easier, in particular for the bonus question.\n",
    "You should be able to perform all of these operations without using a for loop or other looping construct.\n",
    "The data in 'wind.data' has the following format:\n",
    "Yr Mo Dy RPT VAL ROS KIL SHA BIR DUB CLA MUL CLO BEL MAL\n",
    "61 1 1 15.04 14.96 13.17 9.29 NaN 9.87 13.67 10.25 10.83 12.58 18.50 15.04\n",
    "61 1 2 14.71 NaN 10.83 6.50 12.62 7.67 11.50 10.04 9.79 9.67 17.54 13.83\n",
    "61 1 3 18.50 16.88 12.33 10.13 11.17 6.17 11.25 NaN 8.50 7.67 12.75 12.71\n",
    "The first three columns are year, month, and day. The remaining 12 columns are average windspeeds in knots at 12 locations in Ireland on that day.\n",
    "Step 1. Import the necessary libraries\n",
    "Step 2. Import the dataset from the attached file wind.txt\n",
    "Step 3. Assign it to a variable called data and replace the first 3 columns by a proper datetime index.\n",
    "Step 4. Year 2061? Do we really have data from this year? Create a function to fix it and apply it.\n",
    "Step 5. Set the right dates as the index. Pay attention at the data type, it should be datetime64[ns].\n",
    "Step 6. Compute how many values are missing for each location over the entire record.They should be ignored in all calculations below.\n",
    "Step 7. Compute how many non-missing values there are in total.\n",
    "Step 8. Calculate the mean windspeeds of the windspeeds over all the locations and all the times.A single number for the entire dataset.\n",
    "Step 9. Create a DataFrame called loc_stats and calculate the min, max and mean windspeeds and standard deviations of the windspeeds at each location over all the days. A different set of numbers for each location.\n",
    "Step 10. Create a DataFrame called day_stats and calculate the min, max and mean windspeed and standard deviations of the windspeeds across all the locations at each day.A different set of numbers for each day.\n",
    "Step 11. Find the average windspeed in January for each location.Treat January 1961 and January 1962 both as January.\n",
    "Step 12. Downsample the record to a yearly frequency for each location.\n",
    "Step 13. Downsample the record to a monthly frequency for each location.\n",
    "Step 14. Downsample the record to a weekly frequency for each location.\n",
    "Step 15. Calculate the min, max and mean windspeeds and standard deviations of the windspeeds across all locations for each week (assume that the first week starts on January 2 1961) for the first 52 weeks.\n"
   ]
  },
  {
   "cell_type": "code",
   "execution_count": 252,
   "id": "e1dfad12",
   "metadata": {},
   "outputs": [],
   "source": [
    "# Step 1: Import the necessary libraries\n",
    "import numpy as np\n",
    "import pandas as pd\n",
    "\n",
    "# Step 2: Import the dataset from the attached file \"Wind.txt\"\n",
    "file_path = \"C:/Users/39440/Desktop/BDAT/BDAT1004(Data Programming)/assignment/BDAT 1004  Problem Set 3/Wind.txt\"\n",
    "data = pd.read_csv(file_path, delim_whitespace=True)"
   ]
  },
  {
   "cell_type": "code",
   "execution_count": 253,
   "id": "604d072b",
   "metadata": {},
   "outputs": [
    {
     "name": "stdout",
     "output_type": "stream",
     "text": [
      "DataFrame with Datetime Index:\n",
      "             RPT   VAL   ROS   KIL   SHA  BIR   DUB   CLA   MUL   CLO   BEL   MAL\n",
      "Date                                                                             \n",
      "2061-01-01 15.04 14.96 13.17  9.29   NaN 9.87 13.67 10.25 10.83 12.58 18.50 15.04\n",
      "2061-01-02 14.71   NaN 10.83  6.50 12.62 7.67 11.50 10.04  9.79  9.67 17.54 13.83\n",
      "2061-01-03 18.50 16.88 12.33 10.13 11.17 6.17 11.25   NaN  8.50  7.67 12.75 12.71\n",
      "2061-01-04 10.58  6.63 11.75  4.58  4.54 2.88  8.63  1.79  5.83  5.88  5.46 10.88\n",
      "2061-01-05 13.33 13.25 11.42  6.17 10.71 8.21 11.92  6.54 10.92 10.34 12.92 11.83\n"
     ]
    }
   ],
   "source": [
    "# Step 3: Assign it to a variable called data and replace the first 3 columns by a proper datetime index.\n",
    "data['Date'] = pd.to_datetime(data['Yr'].astype(str) + data['Mo'].astype(str).str.zfill(2) + data['Dy'].astype(str).str.zfill(2), format='%y%m%d')\n",
    "data.set_index('Date', inplace=True)\n",
    "data.drop(['Yr', 'Mo', 'Dy'], axis=1, inplace=True)\n",
    "print(\"DataFrame with Datetime Index:\")\n",
    "print(data.head())"
   ]
  },
  {
   "cell_type": "code",
   "execution_count": 268,
   "id": "51762f56",
   "metadata": {},
   "outputs": [
    {
     "name": "stdout",
     "output_type": "stream",
     "text": [
      "DataFrame with Datetime Index:\n",
      "             RPT   VAL   ROS   KIL   SHA  BIR   DUB   CLA   MUL   CLO   BEL   MAL\n",
      "Date                                                                             \n",
      "2061-01-01 15.04 14.96 13.17  9.29   NaN 9.87 13.67 10.25 10.83 12.58 18.50 15.04\n",
      "2061-01-02 14.71   NaN 10.83  6.50 12.62 7.67 11.50 10.04  9.79  9.67 17.54 13.83\n",
      "2061-01-03 18.50 16.88 12.33 10.13 11.17 6.17 11.25   NaN  8.50  7.67 12.75 12.71\n",
      "2061-01-04 10.58  6.63 11.75  4.58  4.54 2.88  8.63  1.79  5.83  5.88  5.46 10.88\n",
      "2061-01-05 13.33 13.25 11.42  6.17 10.71 8.21 11.92  6.54 10.92 10.34 12.92 11.83\n"
     ]
    }
   ],
   "source": [
    "# Step 4: Define a function to fix the year and handle out-of-bounds years\n",
    "def fix_year(year):\n",
    "    year = int(year)  # Convert the year to an integer\n",
    "    if year >= 70 and year <= 99:\n",
    "        return 1900 + year\n",
    "    elif year >= 0 and year <= 69:\n",
    "        return 2000 + year\n",
    "    else:\n",
    "        return None  # Return None for invalid years\n",
    "\n",
    "# Convert the index to a datetime type\n",
    "data.index = pd.to_datetime(data.index, format='%Y-%m-%d')\n",
    "\n",
    "# Apply the fix_year function to the DataFrame index\n",
    "data.index = data.index.map(lambda x: x.replace(year=fix_year(x.year)))\n",
    "\n",
    "# Print the DataFrame with the modified date format\n",
    "print(\"DataFrame with Datetime Index:\")\n",
    "print(data.head().to_string(formatters={'Date': '{:%Y-%m-%d}'.format}))"
   ]
  },
  {
   "cell_type": "code",
   "execution_count": 200,
   "id": "9c4dfe8a",
   "metadata": {},
   "outputs": [],
   "source": [
    "# Step 5: Set the right dates as the index. Pay attention to the data type, it should be datetime64[ns].\n",
    "data.index = pd.to_datetime(data.index)"
   ]
  },
  {
   "cell_type": "code",
   "execution_count": 223,
   "id": "28479f34",
   "metadata": {},
   "outputs": [
    {
     "name": "stdout",
     "output_type": "stream",
     "text": [
      "Missing Values per Location:\n",
      "RPT    6\n",
      "VAL    3\n",
      "ROS    2\n",
      "KIL    5\n",
      "SHA    2\n",
      "BIR    0\n",
      "DUB    3\n",
      "CLA    2\n",
      "MUL    3\n",
      "CLO    1\n",
      "BEL    0\n",
      "MAL    4\n",
      "dtype: int64\n"
     ]
    }
   ],
   "source": [
    "# Step 6: Count the number of missing values for each location over the entire record\n",
    "missing_values_per_location = data.isnull().sum()\n",
    "print(\"Missing Values per Location:\")\n",
    "print(missing_values_per_location)"
   ]
  },
  {
   "cell_type": "code",
   "execution_count": 222,
   "id": "140ecdcd",
   "metadata": {},
   "outputs": [
    {
     "name": "stdout",
     "output_type": "stream",
     "text": [
      "Number of Non-Missing Values in Total:\n",
      "78857\n"
     ]
    }
   ],
   "source": [
    "# Step 7: Compute how many non-missing values there are in total.\n",
    "non_missing_values_total = data.count().sum()\n",
    "print(\"Number of Non-Missing Values in Total:\")\n",
    "print(non_missing_values_total)"
   ]
  },
  {
   "cell_type": "code",
   "execution_count": 221,
   "id": "2402ce88",
   "metadata": {},
   "outputs": [
    {
     "name": "stdout",
     "output_type": "stream",
     "text": [
      "Mean Windspeeds of All Locations and Times:\n",
      "10.227982360836938\n"
     ]
    }
   ],
   "source": [
    "# Step 8: Calculate the mean windspeeds of the windspeeds over all the locations and all the times. A single number for the entire dataset.\n",
    "mean_windspeed_total = data.mean().mean()\n",
    "print(\"Mean Windspeeds of All Locations and Times:\")\n",
    "print(mean_windspeed_total)"
   ]
  },
  {
   "cell_type": "code",
   "execution_count": 220,
   "id": "9850d453",
   "metadata": {},
   "outputs": [
    {
     "name": "stdout",
     "output_type": "stream",
     "text": [
      "Statistics of Windspeeds at Each Location:\n",
      "       RPT   VAL   ROS   KIL   SHA   BIR   DUB   CLA   MUL   CLO   BEL   MAL\n",
      "min   0.67  0.21  1.50  0.00  0.13  0.00  0.00  0.00  0.00  0.04  0.13  0.67\n",
      "max  35.80 33.37 33.84 28.46 37.54 26.16 30.37 31.08 25.88 28.21 42.38 42.54\n",
      "mean 12.36 10.64 11.66  6.31 10.46  7.09  9.80  8.50  8.49  8.71 13.12 15.60\n",
      "std   5.62  5.27  5.01  3.61  4.94  3.97  4.98  4.50  4.17  4.50  5.84  6.70\n"
     ]
    }
   ],
   "source": [
    "# Step 9: Create a DataFrame called loc_stats and calculate the min, max, and mean windspeeds, and standard deviations of the windspeeds at each location over all the days. A different set of numbers for each location.\n",
    "loc_stats = data.agg(['min', 'max', 'mean', 'std'])\n",
    "print(\"Statistics of Windspeeds at Each Location:\")\n",
    "print(loc_stats)"
   ]
  },
  {
   "cell_type": "code",
   "execution_count": 219,
   "id": "3544e9ad",
   "metadata": {},
   "outputs": [
    {
     "name": "stdout",
     "output_type": "stream",
     "text": [
      "Statistics of Windspeeds for Each Day:\n",
      "            min   max  mean  std\n",
      "Yr_Mo_Dy                        \n",
      "1961-01-01 9.29 18.50 13.02 2.81\n",
      "1961-01-02 6.50 17.54 11.34 3.19\n",
      "1961-01-03 6.17 18.50 11.64 3.68\n",
      "1961-01-04 1.79 11.75  6.62 3.20\n",
      "1961-01-05 6.17 13.33 10.63 2.45\n",
      "...         ...   ...   ...  ...\n",
      "1978-12-27 8.08 40.08 16.71 7.87\n",
      "1978-12-28 5.00 41.46 15.15 9.69\n",
      "1978-12-29 8.71 29.58 14.89 5.76\n",
      "1978-12-30 9.13 28.79 15.37 5.54\n",
      "1978-12-31 9.59 27.29 15.40 5.70\n",
      "\n",
      "[6574 rows x 4 columns]\n"
     ]
    }
   ],
   "source": [
    "# Step 10: Create a DataFrame called day_stats and calculate the min, max, and mean windspeeds, and standard deviations of the windspeeds across all the locations at each day. A different set of numbers for each day.\n",
    "day_stats = data.agg(['min', 'max', 'mean', 'std'], axis=1)\n",
    "print(\"Statistics of Windspeeds for Each Day:\")\n",
    "print(day_stats)"
   ]
  },
  {
   "cell_type": "code",
   "execution_count": 278,
   "id": "6ed0ba21",
   "metadata": {},
   "outputs": [
    {
     "name": "stdout",
     "output_type": "stream",
     "text": [
      "Average windspeed in January for each location:\n",
      "             RPT   VAL   ROS   KIL   SHA   BIR   DUB   CLA   MUL   CLO   BEL   MAL\n",
      "Year_Month                                                                        \n",
      "1969-01    12.82 12.11 11.40  6.71 10.56  5.93  9.88  8.38  8.38  9.52 13.41 16.96\n",
      "1970-01    13.15 11.73 13.08  5.81  9.51  8.04  9.84  8.83  8.41  7.63 12.40 17.19\n",
      "1971-01    15.10 13.40 13.08  6.36 11.34  7.76 10.30  8.35  8.98  8.67 14.39 16.36\n",
      "1972-01    14.38 11.85 13.73  5.93 10.82  7.29 11.29  6.73  9.11  8.73 12.17 17.60\n",
      "1973-01    13.18 12.20 10.86  5.45  9.33  7.42 10.74  7.88  8.65  7.60 12.08 14.68\n",
      "1974-01    20.99 17.62 17.51 10.55 15.86 11.30 14.11 12.79 14.69 15.09 19.93 24.57\n",
      "1975-01    17.10 15.81 13.94  8.08 13.93  8.44 13.18 12.60 13.00 11.06 19.27 21.71\n",
      "1976-01    15.63 14.24 13.87  7.79 13.08  9.00 15.12 11.41 13.49 11.55 16.34 22.90\n",
      "1977-01    13.40 10.38 12.76  5.88  9.16  8.01 10.11  7.21  8.28  9.33 12.13 18.83\n",
      "1978-01    14.29 11.87 12.01  6.46 11.40  7.52 12.21 10.21  9.55  9.25 15.10 20.72\n",
      "2061-01    14.84 11.99 13.43  7.74 11.07  8.59 11.18  9.25  9.09 10.11 13.88 14.70\n",
      "2062-01    14.78 13.16 12.59  7.54 11.78  8.72 14.21  9.60  9.67 11.50 16.37 15.66\n",
      "2063-01    14.87 11.11 15.12  6.64 11.08  7.84 12.80  9.84  7.84  9.39 11.43 18.82\n",
      "2064-01    12.66 11.82 11.74  6.95 11.40  6.87  9.59  9.69  6.95  9.68 15.07 14.15\n",
      "2065-01    15.74 15.55 15.27  8.26 13.59  9.25 13.85 11.26  9.90 11.71 16.20 17.89\n",
      "2066-01    15.83 13.28 15.14  8.66 12.97  9.16 12.15 10.48  8.75 10.74 14.07 15.55\n",
      "2067-01    13.74 11.47 11.54  6.93 10.83  6.73  9.79  7.47  7.63 10.17 13.46 17.12\n",
      "2068-01    14.73 12.83 12.29  7.85 12.26  7.13 12.40  9.23  9.42  9.26 14.21 19.10\n"
     ]
    }
   ],
   "source": [
    "# Step 11: Find the average windspeed in January for each location\n",
    "data['Year_Month'] = data.index.to_period('M')\n",
    "\n",
    "# Group the data by the new column and calculate the mean windspeed for each location\n",
    "january_avg_windspeed = data[data.index.month == 1].groupby('Year_Month').mean()\n",
    "\n",
    "print(\"Average windspeed in January for each location:\")\n",
    "print(january_avg_windspeed)"
   ]
  },
  {
   "cell_type": "code",
   "execution_count": 214,
   "id": "b65dd840",
   "metadata": {},
   "outputs": [
    {
     "name": "stdout",
     "output_type": "stream",
     "text": [
      "Yearly Resampled Data:\n",
      "             RPT   VAL   ROS  KIL   SHA  BIR   DUB   CLA  MUL   CLO   BEL   MAL\n",
      "Yr_Mo_Dy                                                                       \n",
      "1961-12-31 12.30 10.35 11.36 6.96 10.88 7.73  9.73  8.86 8.65  9.84 13.50 13.68\n",
      "1962-12-31 12.25 10.11 11.73 6.96 10.66 7.39 11.02  8.79 8.32  9.68 12.93 14.32\n",
      "1963-12-31 12.81 10.84 12.54 7.33 11.72 8.43 11.08 10.34 8.90 10.22 13.64 15.00\n",
      "1964-12-31 12.36 10.92 12.10 6.79 11.45 7.57 10.26  9.47 7.79 10.21 13.74 14.91\n",
      "1965-12-31 12.45 11.08 11.85 6.86 11.02 7.48 10.62  8.88 7.91  9.92 12.96 15.59\n",
      "1966-12-31 13.46 11.56 12.02 7.35 11.81 7.79 10.58  8.84 8.51  9.77 14.27 16.31\n",
      "1967-12-31 12.74 10.99 11.74 7.14 11.63 7.37 10.65  9.33 8.65  9.55 14.77 17.14\n",
      "1968-12-31 11.84 10.47 11.41 6.48 10.76 6.07  8.86  8.26 7.22  7.83 12.81 15.02\n",
      "1969-12-31 11.17  9.72 10.90 5.77  9.87 6.19  8.56  7.71 7.92  7.75 12.62 15.76\n",
      "1970-12-31 12.60 10.73 11.73 6.22 10.57 7.61  9.61  8.33 9.30  8.29 13.18 16.46\n",
      "1971-12-31 11.27  9.10 11.09 5.24  9.44 6.10  8.39  6.76 7.92  7.23 12.21 15.03\n",
      "1972-12-31 12.46 10.56 12.06 5.93  9.43 6.36  9.70  7.68 8.36  7.52 12.73 15.03\n",
      "1973-12-31 11.83 10.68 10.68 5.55  9.64 6.55  8.48  7.61 8.25  7.81 12.17 15.44\n",
      "1974-12-31 13.64 11.81 12.34 6.43 11.11 6.81 10.08  9.90 9.33  8.74 13.25 16.95\n",
      "1975-12-31 12.01 10.29 11.56 5.27  9.19 5.67  8.56  7.84 8.80  7.38 12.63 15.31\n",
      "1976-12-31 11.74 10.20 10.76 5.11  8.85 6.31  9.15  7.15 8.88  7.88 12.33 15.47\n",
      "1977-12-31 13.10 11.14 12.63 6.07 10.00 8.59 11.52  8.38 9.10  8.82 13.46 16.59\n",
      "1978-12-31 12.50 11.04 11.38 6.08 10.17 7.65  9.49  8.80 9.09  8.30 12.97 16.77\n"
     ]
    }
   ],
   "source": [
    "# Step 12: Downsample the record to a yearly frequency for each location.\n",
    "yearly_resampled = data.resample('Y').mean()\n",
    "print(\"Yearly Resampled Data:\")\n",
    "print(yearly_resampled)"
   ]
  },
  {
   "cell_type": "code",
   "execution_count": 212,
   "id": "28791362",
   "metadata": {},
   "outputs": [
    {
     "name": "stdout",
     "output_type": "stream",
     "text": [
      "Monthly Resampled Data:\n",
      "             RPT   VAL   ROS  KIL   SHA   BIR   DUB   CLA   MUL   CLO   BEL   MAL\n",
      "Yr_Mo_Dy                                                                         \n",
      "1961-01-31 14.84 11.99 13.43 7.74 11.07  8.59 11.18  9.25  9.09 10.11 13.88 14.70\n",
      "1961-02-28 16.27 14.98 14.44 9.23 13.85 10.94 11.89 11.85 11.82 12.71 18.58 15.41\n",
      "1961-03-31 10.89 11.30 10.75 7.28 10.51  8.87  9.64  9.83 10.29 11.25 16.41 15.72\n",
      "1961-04-30 10.72  9.43 10.00 5.83  8.44  6.50  6.93  7.09  7.34  7.24 11.15 10.28\n",
      "1961-05-31  9.86  8.85 10.82 5.91  9.49  6.57  7.60  8.18  8.04  8.50 11.90 12.01\n",
      "...          ...   ...   ...  ...   ...   ...   ...   ...   ...   ...   ...   ...\n",
      "1978-08-31  9.65  8.26  9.03 4.50  7.37  5.94  5.65  5.42  7.24  5.54 10.47 12.05\n",
      "1978-09-30 10.91 10.90 10.63 5.72 10.37  9.28 10.79  9.58 10.07  8.94 15.68 19.39\n",
      "1978-10-31  9.90  8.67  9.30 4.72  8.53  6.77  8.12  7.34  8.30  8.24 13.78 17.15\n",
      "1978-11-30 16.15 14.80 13.51 7.32 11.47  8.74 11.49  9.66 10.70 10.68 17.40 20.72\n",
      "1978-12-31 16.18 13.75 15.64 7.09 11.40  9.24 12.08 10.19 10.62 11.03 13.86 21.37\n",
      "\n",
      "[216 rows x 12 columns]\n"
     ]
    }
   ],
   "source": [
    "# Step 13: Downsample the record to a monthly frequency for each location.\n",
    "monthly_resampled = data.resample('M').mean()\n",
    "print(\"Monthly Resampled Data:\")\n",
    "print(monthly_resampled)"
   ]
  },
  {
   "cell_type": "code",
   "execution_count": 211,
   "id": "aac7fcd1",
   "metadata": {},
   "outputs": [
    {
     "name": "stdout",
     "output_type": "stream",
     "text": [
      "Weekly Resampled Data:\n",
      "             RPT   VAL   ROS   KIL   SHA   BIR   DUB   CLA   MUL   CLO   BEL   MAL\n",
      "Yr_Mo_Dy                                                                          \n",
      "1961-01-01 15.04 14.96 13.17  9.29   NaN  9.87 13.67 10.25 10.83 12.58 18.50 15.04\n",
      "1961-01-08 13.54 11.49 10.49  6.42  9.47  6.44 11.06  6.62  8.43  8.50 12.48 13.24\n",
      "1961-01-15 12.47  8.97 11.96  4.63  7.35  5.07  7.54  6.82  5.71  7.57 11.13 11.02\n",
      "1961-01-22 13.20  9.86 12.98  6.33  8.97  7.42  9.26  7.88  7.15  8.12  9.82 11.43\n",
      "1961-01-29 19.88 16.14 18.23 12.72 17.43 14.83 15.53 15.16 14.48 15.64 20.93 22.53\n",
      "...          ...   ...   ...   ...   ...   ...   ...   ...   ...   ...   ...   ...\n",
      "1978-12-03 14.93 11.23 13.94  5.57 10.22  8.62  9.64  7.69  9.01  9.55 11.84 18.73\n",
      "1978-12-10 20.74 19.19 17.03  9.78 15.29 12.77 14.44 12.49 13.87 14.08 18.52 23.06\n",
      "1978-12-17 16.76 14.69 14.99  6.92 11.40  7.27 10.21  7.97  9.17  8.57 11.10 15.56\n",
      "1978-12-24 11.16  8.01 13.17  4.00  7.83  6.29  7.80  8.67  7.15  8.07 11.85 18.98\n",
      "1978-12-31 14.95 11.80 16.04  6.51  9.66  8.62 13.71 10.48 10.87 11.47 12.95 26.84\n",
      "\n",
      "[940 rows x 12 columns]\n"
     ]
    }
   ],
   "source": [
    "# Step 14: Downsample the record to a weekly frequency for each location.\n",
    "weekly_resampled = data.resample('W').mean()\n",
    "print(\"Weekly Resampled Data:\")\n",
    "print(weekly_resampled)"
   ]
  },
  {
   "cell_type": "code",
   "execution_count": 210,
   "id": "b1bc01b1",
   "metadata": {},
   "outputs": [
    {
     "name": "stdout",
     "output_type": "stream",
     "text": [
      "Weekly Statistics for First 52 Weeks:\n",
      "             RPT                    VAL                    ROS                   KIL                    SHA                   BIR                    DUB                   CLA                    MUL                    CLO                    BEL                    MAL                 \n",
      "             min   max  mean  std   min   max  mean  std   min   max  mean  std  min   max  mean  std   min   max  mean  std  min   max  mean  std   min   max  mean  std  min   max  mean  std   min   max  mean  std   min   max  mean  std   min   max  mean  std   min   max  mean  std\n",
      "Yr_Mo_Dy                                                                                                                                                                                                                                                                                   \n",
      "1961-01-08 10.58 18.50 13.54 2.63  6.63 16.88 11.49 3.95  7.62 12.33 10.49 1.60 4.58 10.13  6.42 1.81  4.54 12.62  9.47 3.25 2.88  8.33  6.44 2.06  8.63 14.29 11.06 1.87 1.79 10.04  6.62 3.10  5.83 10.92  8.43 1.72  5.88 10.46  8.50 1.70  5.46 17.54 12.48 4.35 10.88 16.46 13.24 1.77\n",
      "1961-01-15  9.04 19.75 12.47 3.56  3.54 12.08  8.97 3.15  7.08 19.50 11.96 5.03 0.67 10.54  4.63 3.55  2.29 10.37  7.35 3.47 0.96  9.46  5.07 3.25  2.50 15.54  7.54 4.71 0.58 11.50  6.82 3.94  0.50 10.37  5.71 3.50  2.67 14.58  7.57 4.08  5.25 20.71 11.13 5.55  5.17 16.92 11.02 4.69\n",
      "1961-01-22  4.92 19.83 13.20 5.34  3.42 14.37  9.86 3.84  7.29 20.79 12.98 5.09 1.04 18.54  6.33 6.25  3.67 13.96  8.97 3.61 3.17 13.37  7.42 3.45  3.17 17.83  9.26 5.17 2.79 11.38  7.88 3.16  1.92 14.67  7.15 4.17  2.71 16.71  8.12 4.78  6.50 15.92  9.82 3.63  6.79 17.96 11.43 4.24\n",
      "1961-01-29 13.62 25.04 19.88 4.62  9.96 23.91 16.14 5.17 12.67 25.84 18.23 4.67 6.04 17.54 12.72 4.30 10.00 24.08 17.43 4.86 9.42 19.70 14.83 3.75  9.25 22.00 15.53 4.51 8.71 20.25 15.16 4.44  7.12 21.46 14.48 4.90 11.04 19.95 15.64 3.71 14.04 27.71 20.93 5.21 17.50 27.63 22.53 3.87\n",
      "1961-02-05 10.58 24.21 16.83 5.25  9.46 24.21 15.46 5.19  9.04 19.70 12.62 3.98 5.09 11.96  8.25 2.71  9.87 17.37 13.36 2.33 5.83 12.04  9.11 2.40  8.50 14.88 12.20 2.42 3.63 15.54  8.55 4.08  6.34 13.37  9.82 2.80  5.50 13.13  9.46 2.84  9.17 19.33 14.01 4.21  7.17 19.25 11.94 4.34\n",
      "1961-02-12 16.00 24.54 19.68 3.59 11.54 21.42 16.42 3.61 13.67 21.34 17.30 3.29 8.38 15.37 10.77 2.26  8.12 25.33 14.72 5.57 8.08 17.62 12.52 3.05 11.08 19.17 14.93 2.97 9.71 18.79 14.85 3.02 10.37 18.96 14.06 2.91 12.25 17.79 14.44 1.75 15.21 26.38 21.83 4.06 17.04 21.84 19.16 1.83\n",
      "1961-02-19  6.04 22.50 15.13 5.06 11.63 20.17 15.09 3.58  6.13 19.41 13.80 4.20 4.21 15.34 10.08 4.31  9.87 16.13 13.41 2.32 6.92 15.12 11.87 3.02  3.42 16.08  9.54 4.96 7.41 14.29 12.13 2.28  8.17 14.88 12.38 2.56  9.21 16.58 13.54 2.53 14.09 29.63 21.17 5.91 10.96 22.58 16.58 4.69\n",
      "1961-02-26  7.79 25.80 15.22 7.02  7.08 21.50 13.63 5.15  6.08 22.42 14.33 5.58 2.21 15.21  8.52 4.48  5.96 23.09 13.66 6.48 4.33 16.88 10.11 5.03  3.75 21.17 11.15 6.04 4.67 17.25 10.88 4.87  4.50 18.46 10.39 4.71  7.00 20.04 12.73 4.92  9.59 23.21 16.30 5.09  6.67 23.87 14.32 6.18\n",
      "1961-03-05 10.96 13.33 12.10 1.00  8.83 17.00 12.95 2.85  8.17 13.67 11.06 1.80 5.88 10.04  7.83 1.65  8.25 16.13 12.10 2.96 6.00 12.29  9.24 2.02  5.50 14.75 10.23 3.34 5.66 14.46 11.13 2.88  6.25 13.96 10.38 2.61  9.79 14.09 12.37 1.59 11.58 23.45 17.84 4.33  8.83 17.54 13.95 3.02\n",
      "1961-03-12  4.88 14.79  9.38 3.73  8.08 16.96 11.58 3.23  7.54 16.38 10.85 3.59 3.13 10.25  7.14 2.61  5.41 14.92 10.94 3.11 4.08 13.67  9.49 3.44  1.71 17.12  6.88 5.54 5.29 15.67  9.64 3.76  5.21 16.29  9.89 3.66  5.09 15.79 10.46 3.66 10.21 22.71 16.70 4.36  5.54 22.54 14.42 5.77\n",
      "1961-03-19  4.92 16.88 11.91 3.86  9.46 15.54 13.50 2.35  5.25 13.96 11.61 2.94 4.29 11.04  7.08 2.42  6.83 14.37 10.75 2.65 5.79 10.75  8.65 2.05  2.75 13.96 10.04 4.05 5.13 14.29 10.22 3.37  6.00 13.88 10.10 3.30  7.29 15.34 11.63 3.10 11.29 22.79 19.35 3.78 11.34 22.95 16.23 4.33\n",
      "1961-03-26  6.29 15.00  9.57 3.61  2.58 11.63  8.39 3.66  4.79 15.63  9.70 4.04 4.42 10.75  6.65 2.41  5.13 13.33  8.96 2.93 4.29 10.29  7.98 2.29  8.00 15.41 10.77 2.89 4.92 13.04  8.98 2.79  8.00 14.37 10.90 2.47  8.33 14.50 11.48 2.54  8.25 21.34 14.04 4.32 13.13 22.50 18.13 3.70\n",
      "1961-04-02  5.88 18.25 10.76 5.05  3.50 16.29  8.85 4.69  5.09 14.96  9.50 3.68 2.75 12.00  7.30 3.63  2.83 18.34  9.98 5.66 3.50 14.33  9.17 4.05  5.25 16.62 11.13 4.05 1.46 14.92  9.06 4.69  6.50 17.54 10.48 4.03  6.46 14.21  9.63 3.19  7.21 18.63 13.47 4.18  7.17 19.58 13.90 3.92\n",
      "1961-04-09  4.50 18.12 11.96 4.60  7.04 14.62 10.65 2.85  9.29 18.29 13.61 2.90 3.21 10.63  5.96 2.85  5.96 13.33  9.49 2.74 4.33 10.83  7.64 2.53  5.00  9.96  7.11 2.11 4.00 10.08  8.04 2.00  5.66 10.54  8.16 1.94  3.67 10.50  7.24 2.34  7.62 17.16 11.71 3.15  7.21 15.34 11.37 2.60\n",
      "1961-04-16  4.71 15.50  8.97 3.94  4.83 12.25  8.00 2.61  3.92 15.79  8.79 4.59 2.33  9.71  4.97 2.66  3.37  8.71  6.41 1.94 1.54  8.58  4.95 2.39  2.46  8.00  5.01 1.97 2.29  9.92  4.99 2.38  3.37  9.00  5.72 2.12  4.00  9.67  6.18 2.16  5.75 16.17  9.48 3.64  5.66 12.87  8.69 2.75\n",
      "1961-04-23  4.00 21.09 12.62 5.68  3.71 15.41 10.44 4.63  3.33 17.00 10.26 5.46 1.58 11.63  7.77 3.84  2.21 14.37 10.36 4.12 0.83 11.63  7.80 3.84  4.46 12.96  9.00 3.25 2.54 13.25  9.11 3.94  3.58 13.29  8.77 3.66  3.83 14.37  9.55 3.35  6.75 19.21 13.62 4.74  4.96 20.46 12.47 5.91\n",
      "1961-04-30  4.08 16.29 10.12 4.35  6.50 14.46  9.80 2.87  2.54 14.96  8.28 3.73 1.87  7.87  4.80 1.90  3.88 12.62  7.89 3.26 1.54  8.83  5.20 2.53  2.67 13.75  6.15 3.57 1.38 11.96  6.38 3.43  2.54 11.08  6.24 2.72  2.71 11.46  6.12 2.84  5.13 13.04  9.72 2.95  2.67 17.50  8.64 5.11\n",
      "1961-05-07  9.87 23.00 15.37 5.03 10.29 19.79 13.97 3.75  8.42 21.21 13.83 4.30 6.46 14.46  9.95 3.14  9.42 23.16 14.92 5.78 7.33 15.46 10.86 3.32  5.96 18.21 11.44 4.42 6.25 18.05 12.24 4.46  7.79 17.04 11.68 3.56  8.63 17.54 11.59 3.62  4.79 28.08 17.55 8.00  3.83 26.58 14.57 7.73\n",
      "1961-05-14  3.54 12.79  7.77 3.37  3.96 15.12  8.71 3.78  4.63 12.33  8.17 3.00 1.04 10.75  5.30 3.51  3.42 15.71  9.15 4.81 1.17 14.04  6.39 4.66  3.33 18.58  8.01 5.74 3.37 15.79  7.05 4.69  2.46 17.33  7.53 5.13  1.83 17.92  7.82 5.46  6.54 18.66 10.42 3.97  3.33 26.30 10.38 7.86\n",
      "1961-05-21  4.88 15.04  8.23 3.63  3.58 10.17  5.63 2.47  5.91 15.96 12.04 3.77 3.63  5.17  4.26 0.67  5.50 12.92  7.60 2.54 3.46  6.79  5.02 1.38  3.17  8.38  5.70 1.65 3.79 11.12  6.97 2.22  4.92  9.46  6.85 1.61  4.17  9.29  7.11 2.22  6.63 12.00  9.62 1.98  5.91 14.96 10.61 3.31\n",
      "1961-05-28  4.96 11.79  8.16 2.74  3.67 12.50  7.39 3.38  3.58 20.96  8.51 6.36 2.42  5.50  3.75 1.38  3.75 10.21  6.94 2.95 1.63  6.50  4.11 1.87  2.42  9.33  5.14 2.35 2.83 12.08  6.27 3.21  4.50  9.59  6.11 1.99  5.17 11.46  7.54 2.58  6.13 14.33 10.52 3.02  8.00 17.04 11.70 3.81\n",
      "1961-06-04  7.00 15.92 10.32 3.10  4.75  9.79  7.41 1.87  6.83 15.96 10.07 3.47 3.42  9.87  6.31 2.32  7.67 12.87  9.75 2.31 5.17  8.46  6.45 1.33  5.83 11.71  8.34 2.30 7.21  9.87  8.64 0.92  6.34 11.17  8.71 1.95  5.91 12.04  9.04 2.10  8.71 17.00 12.30 2.61 10.63 17.96 13.60 2.59\n",
      "1961-06-11  8.29 14.42 10.92 2.25  6.83 11.54  8.99 1.52  6.04 11.58  8.10 1.89 3.21  6.92  5.21 1.60  7.33 13.13 10.03 2.24 1.87  8.63  5.46 2.20  3.42  9.71  7.08 2.51 3.13  9.71  6.88 2.86  5.41 10.58  8.03 1.70  5.21 10.92  8.40 2.16  5.37 16.17 10.15 3.99  5.96 19.83 12.25 4.93\n",
      "1961-06-18  6.13 14.33 10.57 3.01  4.12 14.54  9.57 3.51  6.50 15.50 10.88 3.43 2.92  9.42  6.52 2.13  3.50 14.92 10.26 4.18 1.58 10.34  6.95 3.29  4.67 13.70  9.28 3.42 2.88 16.54  9.10 4.86  4.21 12.12  8.99 2.90  3.08 14.71  9.59 3.79  7.29 25.25 15.35 6.48  6.13 24.71 15.03 6.24\n",
      "1961-06-25  4.00  9.00  7.35 1.98  3.25  9.50  6.11 2.21  5.13 10.37  8.08 1.92 2.88  6.63  5.48 1.33  8.58 13.21 11.48 1.42 4.46  8.67  7.49 1.45  7.92 14.88 11.87 2.46 6.34 12.04  9.45 2.11  6.50 12.92 10.46 2.04  7.83 15.00 11.26 2.29 11.00 19.08 14.37 2.50 13.75 21.50 17.41 3.06\n",
      "1961-07-02  7.21 13.13 10.24 2.56  6.34 14.37  9.48 2.90  7.62 10.79  8.65 1.16 4.42 10.54  6.77 1.91  8.04 13.83 10.98 2.17 4.79  9.59  6.51 1.63  4.92 10.54  7.64 1.93 5.96 13.70  9.24 3.07  5.79 10.41  7.90 1.75  7.96 12.38 10.27 1.56  6.96 21.87 14.54 6.30  8.50 16.79 12.13 3.65\n",
      "1961-07-09  7.29 17.50 11.72 3.66  3.75 10.75  7.22 2.69  7.41 14.92  9.32 3.00 3.54 12.00  7.54 2.90  8.00 18.58 12.49 3.66 4.58 11.38  7.98 2.46  7.08 15.75 11.89 3.49 5.58 14.33  9.31 3.16  6.25 15.46 10.73 3.45  6.21 16.79 10.55 3.66  7.08 20.41 12.22 4.54 12.08 21.29 15.99 3.67\n",
      "1961-07-16  8.63 22.50 16.68 5.17  7.87 19.29 13.52 3.85  8.00 14.29 11.17 2.17 5.58 12.42  9.28 2.67  9.46 20.88 14.52 4.60 3.46 13.17  8.41 3.16  2.67 16.83 10.17 4.49 2.96 16.17 10.51 4.08  2.92 15.37  9.53 3.98  4.25 14.92 10.16 3.27  5.04 20.25 13.52 4.97  5.96 21.96 12.52 4.97\n",
      "1961-07-23  3.04  5.88  4.20 1.05  2.92  6.79  4.26 1.40  4.08 12.67  6.74 2.78 1.46  4.67  3.30 1.16  5.04  7.33  6.11 0.76 1.96  3.88  2.72 0.62  2.21  7.08  3.96 1.76 3.37  7.79  5.64 1.48  4.00  6.50  5.30 0.87  3.92  7.75  6.04 1.44  4.21 10.13  7.52 2.05  5.41 10.92  8.42 2.13\n",
      "1961-07-30  6.13 16.08 10.56 4.16  4.63 13.79  8.45 3.20  6.42 15.67  9.35 3.28 2.83  9.92  5.73 2.84  4.96 17.50 10.08 4.51 2.92 13.50  6.55 3.79  3.58 18.79  9.15 5.11 4.17 15.16  9.20 4.06  2.21 15.59  8.04 4.50  4.92 15.75  9.47 4.35  7.87 22.17 12.84 5.58  6.13 25.37 13.76 6.66\n",
      "1961-08-06  7.67 16.08 10.87 2.95  5.09 15.79  8.79 3.99  5.54 15.59  9.86 3.48 4.17  8.96  6.24 1.65  5.25 16.92 11.16 4.19 2.79 10.21  7.18 2.64  3.75 13.54  8.67 3.71 2.25 13.04  8.27 3.92  3.17 11.67  8.01 3.22  5.41 12.83  8.95 2.90  6.17 18.54 11.60 4.90  9.08 20.25 13.76 4.45\n",
      "1961-08-13  2.88 14.21 10.06 4.42  4.42 10.00  7.94 2.05  6.00 11.63  8.73 2.17 2.50  7.75  5.08 1.92  6.58 14.58 10.11 3.07 3.58  8.96  6.02 2.05  3.88 11.25  7.86 3.07 5.04 10.79  8.02 2.09  2.83 10.08  6.29 2.72  5.25  9.92  7.23 2.07  5.88 14.29 10.93 2.93  5.88 15.16 10.13 3.36\n",
      "1961-08-20 13.13 18.91 15.61 2.28  7.25 13.62 10.57 2.52  9.17 14.04 11.07 1.77 6.83 11.79  8.60 1.94 12.96 20.38 15.26 2.57 7.54 14.25 10.42 2.23  9.42 19.04 13.22 3.20 8.92 17.71 11.71 2.97  8.79 16.13 11.78 2.34  9.13 17.83 12.24 2.73  9.59 21.92 14.92 4.09 13.04 24.30 16.63 3.93\n",
      "1961-08-27  7.67 18.16 12.39 3.40  6.87 14.58 11.43 3.17  9.50 17.83 12.77 3.07 3.96 11.67  7.11 2.46  7.46 21.04 13.25 4.38 4.25 15.34  9.42 3.42  5.66 19.00 11.11 4.17 4.50 17.79 12.20 4.90  3.96 17.50  9.82 4.12  7.46 15.96 12.51 3.86  5.75 23.38 16.25 6.71  8.29 22.29 16.49 4.95\n",
      "1961-09-03  3.63 14.46  8.68 4.40  1.13 22.00  8.82 7.47  2.42 12.75  6.75 4.40 2.37 12.42  5.64 3.79  4.25 19.21  9.68 6.13 2.25 13.08  6.28 4.46  2.92 14.12  6.43 3.92 2.71 16.54  8.61 5.01  3.67 13.50  6.74 4.16  5.96 16.13  8.92 3.99  4.79 24.71 13.66 7.68  5.41 22.54 11.02 6.31\n",
      "1961-09-10  5.00 17.62 10.54 5.21  3.04 13.59  8.80 4.00  3.63 14.88  8.19 3.92 2.75 10.50  6.06 3.15  4.75 14.54  9.23 3.18 2.17  9.83  5.69 2.97  1.25 14.09  6.79 4.26 2.21 10.79  6.67 3.07  2.50 12.71  6.98 3.77  1.75 11.71  7.57 3.65  5.41 15.83 10.70 4.22  3.37 20.25 11.03 6.05\n",
      "1961-09-17  5.33 28.75 17.16 7.68  7.12 22.08 14.44 5.36  7.29 26.50 15.62 6.64 3.96 21.09 10.44 5.56  8.29 28.50 15.46 6.28 5.58 20.67 11.08 4.71  7.87 20.79 12.27 4.24 7.17 21.37 13.13 4.57  5.88 21.34 11.40 4.85  9.67 25.21 14.27 5.13 13.92 23.91 19.88 4.46 14.67 33.09 18.98 6.33\n",
      "1961-09-24  6.92 10.25  8.50 1.27  2.92 13.62  7.15 3.45  5.33 12.17  7.99 2.32 2.62  7.17  4.85 1.61  3.88 12.92  8.21 3.13 1.63  7.75  5.04 2.29  4.12  8.17  5.67 1.44 1.46 11.63  6.88 3.34  2.83  7.33  5.03 1.52  2.83 10.71  6.80 2.35  4.54 20.96 11.02 5.24  5.25 14.62  9.81 3.11\n",
      "1961-10-01 10.34 23.21 16.04 4.56  6.96 13.62 11.36 2.81  7.87 17.58 13.06 4.20 5.79 11.17  8.37 2.05 11.25 20.75 13.71 3.35 6.34 12.00  8.76 1.90  5.83 12.46  9.23 2.10 6.21 15.34 10.44 3.43  7.00 12.08  8.89 1.79  5.29 17.46 11.84 3.91  7.79 21.37 16.21 5.09  4.04 17.16 13.34 4.70\n",
      "1961-10-08  3.13 16.08 11.25 5.60  3.63 16.96  8.76 5.06  4.96 17.83 10.17 4.39 1.46  9.79  5.26 3.25  3.75 13.59  8.26 3.83 1.04  9.71  5.55 3.69  3.50 12.96  7.41 3.42 1.87  9.50  6.22 3.31  1.42 10.58  5.65 3.72  2.42 12.21  7.66 4.30  4.79 17.83  8.81 4.80  4.83 19.62 11.41 5.46\n",
      "1961-10-15  3.71 17.12 10.88 4.78  6.13 13.25  9.73 2.71  4.21 20.96  9.10 5.98 3.67  9.42  6.58 2.37  7.29 13.54 10.63 2.25 4.92 11.04  7.97 1.97  2.96 12.71  8.71 3.41 4.88 12.38  7.90 2.51  3.13 11.12  7.23 2.95  5.37 15.21  9.49 3.57  8.54 20.46 14.45 4.11 10.75 21.04 15.26 4.10\n",
      "1961-10-22 10.46 28.62 19.26 7.89  3.75 19.46 13.36 6.00  9.92 22.63 15.83 5.46 6.83 19.38 12.62 4.99  7.75 22.46 15.14 6.10 6.83 16.42 10.72 3.80  7.50 22.17 15.57 5.33 6.08 20.17 12.56 5.20  7.38 18.00 13.12 3.79 11.08 26.38 16.46 5.89 10.88 24.71 17.48 5.65 13.46 33.45 23.64 7.47\n",
      "1961-10-29  4.33 26.42 16.08 7.96  2.75 21.25 11.87 6.88  4.79 23.09 14.61 7.43 1.71 16.54  8.41 5.58  4.46 24.41 13.36 7.34 2.33 15.46  8.93 5.10  7.79 18.34 12.75 4.54 2.62 18.46  9.87 5.51  4.25 15.37  9.44 4.45  5.83 22.13 12.95 6.28  8.50 27.29 15.59 7.06  9.83 30.88 18.40 8.34\n",
      "1961-11-05  5.88 15.79 11.57 3.37  3.96 13.46  9.59 3.90  6.54 14.33 10.83 2.46 3.79 11.79  7.54 2.45  6.00 17.25 10.84 3.66 4.33 12.21  8.67 2.51  8.50 15.83 12.79 2.73 4.21 14.00  9.97 3.60  5.71 15.09 10.17 3.00  7.67 15.79 11.86 2.78 10.29 20.17 16.32 4.04 13.37 23.58 19.20 3.87\n",
      "1961-11-12  5.46 16.08 10.43 3.94  5.50 10.75  7.69 2.14  3.83 20.41 10.27 6.78 1.87  8.79  4.66 2.93  3.37 10.00  7.34 2.09 2.04  6.42  4.22 1.41  6.58 13.04  9.31 2.39 1.42  6.63  4.26 2.18  1.33  7.38  5.19 2.15  2.62 10.88  6.42 2.84  6.13 12.58  9.21 2.53  5.71 15.54 10.86 3.69\n",
      "1961-11-19  7.50 15.00 10.80 2.78  4.21 13.00  7.95 3.21  6.46 32.71 16.99 9.42 1.50 13.33  5.97 4.18  5.04 10.25  8.13 2.09 1.25 10.13  5.49 3.44  2.29 21.87  9.66 7.03 0.63 10.04  4.63 3.45  0.75 10.37  4.50 3.49  1.25 14.04  6.03 4.40  0.71  9.59  5.88 3.64  2.00 13.25  5.74 3.79\n",
      "1961-11-26  5.75 14.29  9.15 3.21  3.29 11.79  7.34 3.28  4.42 14.46  8.66 3.62 2.04  7.96  4.97 1.82  6.00 12.75  8.90 2.13 4.54  9.83  6.36 1.82  7.00 16.17 12.10 3.55 3.42 10.00  6.92 2.28  3.71 10.04  6.56 2.39  6.92 14.12  9.58 2.75  6.50 20.46 11.77 5.41  4.25 22.58 12.73 6.48\n",
      "1961-12-03  7.92 23.75 12.61 5.70  4.67 18.71 10.44 5.11  8.00 19.92 11.48 4.16 3.29 14.46  6.50 4.10  4.17 19.92 10.36 5.54 2.29 11.04  6.87 3.53  5.83 16.50 11.08 4.19 1.92 11.50  6.25 3.74  2.25 12.58  7.37 3.66  3.63 13.00  7.91 3.68  5.50 19.04 11.46 5.55  5.88 21.29 14.73 5.23\n",
      "1961-12-10 10.83 23.71 17.36 4.89  9.21 21.37 14.36 4.12  9.71 20.54 15.46 4.68 3.83 13.04  8.62 3.78  7.79 18.08 12.64 3.35 5.50 14.54 10.42 3.48  8.87 19.83 14.55 4.36 3.13 15.46 10.11 4.50  5.09 15.12  9.97 3.45  5.75 15.50 12.02 4.16 10.71 21.79 15.98 4.67  7.58 29.33 16.24 7.35\n",
      "1961-12-17  9.29 21.34 14.99 4.10  8.63 17.62 13.47 3.59  9.04 19.00 13.72 3.84 4.46 13.62  8.70 3.50  8.83 20.00 14.30 3.94 7.04 16.42 11.70 3.31  6.92 25.62 13.67 6.47 5.46 14.50 10.43 3.48  4.71 17.25 10.66 4.33  4.67 17.41 11.06 4.63  5.50 22.83 15.11 6.53  6.50 21.12 14.64 5.67\n",
      "1961-12-24 11.46 24.41 15.76 4.96  9.79 16.13 11.97 2.22  8.08 22.13 12.84 5.65 0.58 15.59  5.79 5.34  7.33 20.38 11.93 4.90 2.83 13.59  7.08 4.02  3.54 18.12  8.07 5.72 3.46 14.33  7.01 4.13  1.25 12.54  5.52 4.24  2.46 15.34  7.70 4.64  5.29 17.67  9.96 5.07  2.62 16.62  8.16 5.05\n",
      "1961-12-31  5.04 20.54 13.63 5.79  3.08 16.04  9.50 4.57  2.13 29.33 15.80 9.74 0.42 11.79  6.59 4.17  3.67 11.34  8.11 3.02 1.83  8.12  5.37 2.67  2.92 17.29 11.89 5.14 1.87 12.75  6.85 4.29  1.83 10.37  6.75 3.33  1.96 10.83  7.70 3.53  3.75 13.21  9.70 3.26  6.63 15.21 12.84 3.01\n"
     ]
    }
   ],
   "source": [
    "# Step 15: Calculate the min, max, mean, and standard deviations of the windspeeds across all locations for each week (assuming that the first week starts on January 2, 1961) for the first 52 weeks\n",
    "weekly_stats = data.loc['1961-01-02':'1961-12-31'].resample('W').agg(['min', 'max', 'mean', 'std'])\n",
    "print(\"Weekly Statistics for First 52 Weeks:\")\n",
    "print(weekly_stats)"
   ]
  },
  {
   "cell_type": "markdown",
   "id": "461aab94",
   "metadata": {},
   "source": [
    "# Question 5\n",
    "Step 1. Import the necessary libraries\n",
    "Step 2. Import the dataset from this address.\n",
    "Step 3. Assign it to a variable called chipo.\n",
    "Step 4. See the first 10 entries\n",
    "Step 5. What is the number of observations in the dataset?\n",
    "Step 6. What is the number of columns in the dataset?\n",
    "Step 7. Print the name of all the columns.\n",
    "Step 8. How is the dataset indexed?\n",
    "Step 9. Which was the most-ordered item?\n",
    "Step 10. For the most-ordered item, how many items were ordered?\n",
    "Step 11. What was the most ordered item in the choice_description column?\n",
    "Step 12. How many items were orderd in total?\n",
    "Step 13.\n",
    "• Turn the item price into a float\n",
    "• Check the item price type\n",
    "• Create a lambda function and change the type of item price\n",
    "• Check the item price type\n",
    "Step 14. How much was the revenue for the period in the dataset?\n",
    "Step 15. How many orders were made in the period?\n",
    "Step 16. What is the average revenue amount per order?\n",
    "Step 17. How many different items are sold?"
   ]
  },
  {
   "cell_type": "code",
   "execution_count": 31,
   "id": "126fbe32",
   "metadata": {},
   "outputs": [],
   "source": [
    "#Step 1. Import the necessary libraries:\n",
    "import pandas as pd\n",
    "\n",
    "#Step 2 & 3. Import the dataset from this address:\n",
    "url = \"https://raw.githubusercontent.com/justmarkham/DAT8/master/data/chipotle.tsv\"\n",
    "chipo = pd.read_csv(url, sep='\\t')"
   ]
  },
  {
   "cell_type": "code",
   "execution_count": 35,
   "id": "bf0a6161",
   "metadata": {
    "scrolled": false
   },
   "outputs": [
    {
     "name": "stdout",
     "output_type": "stream",
     "text": [
      "   order_id  quantity               item_name                 \\\n",
      "0      1         1              Chips and Fresh Tomato Salsa   \n",
      "1      1         1                                      Izze   \n",
      "2      1         1                          Nantucket Nectar   \n",
      "3      1         1     Chips and Tomatillo-Green Chili Salsa   \n",
      "4      2         2                              Chicken Bowl   \n",
      "5      3         1                              Chicken Bowl   \n",
      "6      3         1                             Side of Chips   \n",
      "7      4         1                             Steak Burrito   \n",
      "8      4         1                          Steak Soft Tacos   \n",
      "9      5         1                             Steak Burrito   \n",
      "\n",
      "                  choice_description                 item_price  \n",
      "0                                                NaN    $2.39    \n",
      "1                                       [Clementine]    $3.39    \n",
      "2                                            [Apple]    $3.39    \n",
      "3                                                NaN    $2.39    \n",
      "4  [Tomatillo-Red Chili Salsa (Hot), [Black Beans...   $16.98    \n",
      "5  [Fresh Tomato Salsa (Mild), [Rice, Cheese, Sou...   $10.98    \n",
      "6                                                NaN    $1.69    \n",
      "7  [Tomatillo Red Chili Salsa, [Fajita Vegetables...   $11.75    \n",
      "8  [Tomatillo Green Chili Salsa, [Pinto Beans, Ch...    $9.25    \n",
      "9  [Fresh Tomato Salsa, [Rice, Black Beans, Pinto...    $9.25    \n"
     ]
    }
   ],
   "source": [
    "#Step 4. See the first 10 entries:\n",
    "chipo.index += 1\n",
    "chipo.reset_index(drop=True, inplace=True)\n",
    "# Print the first 10 entries with the updated index\n",
    "print(chipo.head(10))"
   ]
  },
  {
   "cell_type": "code",
   "execution_count": 19,
   "id": "d8a0ac3f",
   "metadata": {},
   "outputs": [
    {
     "name": "stdout",
     "output_type": "stream",
     "text": [
      "4622\n"
     ]
    }
   ],
   "source": [
    "#Step 5. Calculate the number of observations in the dataset.\n",
    "num_observations = len(chipo)\n",
    "print(num_observations)"
   ]
  },
  {
   "cell_type": "code",
   "execution_count": 109,
   "id": "b86a0686",
   "metadata": {},
   "outputs": [
    {
     "name": "stdout",
     "output_type": "stream",
     "text": [
      "5\n"
     ]
    }
   ],
   "source": [
    "#Step 6. Calculate the number of columns in the dataset.\n",
    "num_columns = len(chipo.columns)\n",
    "print(num_columns)"
   ]
  },
  {
   "cell_type": "code",
   "execution_count": 142,
   "id": "fadb8db4",
   "metadata": {},
   "outputs": [
    {
     "name": "stdout",
     "output_type": "stream",
     "text": [
      "Index(['order_id', 'quantity', 'item_name', 'choice_description', 'item_price'], dtype='object')\n"
     ]
    }
   ],
   "source": [
    "#Step 7. Print the name of all the columns:\n",
    "print(chipo.columns)"
   ]
  },
  {
   "cell_type": "code",
   "execution_count": 111,
   "id": "4eca31cb",
   "metadata": {},
   "outputs": [
    {
     "name": "stdout",
     "output_type": "stream",
     "text": [
      "RangeIndex(start=0, stop=4622, step=1)\n"
     ]
    }
   ],
   "source": [
    "#Step 8. Calculate the dataset indexed.\n",
    "print(chipo.index)"
   ]
  },
  {
   "cell_type": "code",
   "execution_count": 112,
   "id": "935c6002",
   "metadata": {},
   "outputs": [
    {
     "name": "stdout",
     "output_type": "stream",
     "text": [
      "Chicken Bowl\n"
     ]
    }
   ],
   "source": [
    "#Step 9.Calculate the most-ordered item.\n",
    "most_ordered_item = chipo['item_name'].mode().values[0]\n",
    "print(most_ordered_item)"
   ]
  },
  {
   "cell_type": "code",
   "execution_count": 113,
   "id": "1013887d",
   "metadata": {},
   "outputs": [
    {
     "name": "stdout",
     "output_type": "stream",
     "text": [
      "761\n"
     ]
    }
   ],
   "source": [
    "#Step 10. For the most-ordered item, Calculate the items were ordered.\n",
    "most_ordered_item_count = chipo[chipo['item_name'] == most_ordered_item]['quantity'].sum()\n",
    "print(most_ordered_item_count)"
   ]
  },
  {
   "cell_type": "code",
   "execution_count": 114,
   "id": "1d33b797",
   "metadata": {},
   "outputs": [
    {
     "name": "stdout",
     "output_type": "stream",
     "text": [
      "[Diet Coke]\n"
     ]
    }
   ],
   "source": [
    "#Step 11. Calculate the most ordered item in the choice_description column.\n",
    "most_ordered_choice_description = chipo['choice_description'].mode().values[0]\n",
    "print(most_ordered_choice_description)"
   ]
  },
  {
   "cell_type": "code",
   "execution_count": 115,
   "id": "a7c44455",
   "metadata": {},
   "outputs": [
    {
     "name": "stdout",
     "output_type": "stream",
     "text": [
      "4972\n"
     ]
    }
   ],
   "source": [
    "#Step 12. Count items were ordered in total.\n",
    "total_items_ordered = chipo['quantity'].sum()\n",
    "print(total_items_ordered)"
   ]
  },
  {
   "cell_type": "code",
   "execution_count": 165,
   "id": "e51cb81b",
   "metadata": {},
   "outputs": [
    {
     "name": "stdout",
     "output_type": "stream",
     "text": [
      "float64\n",
      "float64\n"
     ]
    }
   ],
   "source": [
    "#Step 13.\n",
    "\n",
    "# Check the item price type before conversion\n",
    "print(chipo['item_price'].dtype)\n",
    "\n",
    "# Create a lambda function to remove the '$' sign and convert the price to a float\n",
    "def remove_dollar_sign(price):\n",
    "    if isinstance(price, str):\n",
    "        return float(price[1:])\n",
    "    else:\n",
    "        return price\n",
    "\n",
    "# Apply the lambda function to the 'item_price' column\n",
    "chipo['item_price'] = chipo['item_price'].apply(remove_dollar_sign)\n",
    "\n",
    "# Check the item price type after conversion\n",
    "print(chipo['item_price'].dtype)"
   ]
  },
  {
   "cell_type": "code",
   "execution_count": 117,
   "id": "28cd71a1",
   "metadata": {},
   "outputs": [
    {
     "name": "stdout",
     "output_type": "stream",
     "text": [
      "39237.02\n"
     ]
    }
   ],
   "source": [
    "#Step 14. Calculate the revenue for the period in the dataset.\n",
    "revenue = (chipo['quantity'] * chipo['item_price']).sum()\n",
    "print(revenue)"
   ]
  },
  {
   "cell_type": "code",
   "execution_count": 118,
   "id": "52465113",
   "metadata": {},
   "outputs": [
    {
     "name": "stdout",
     "output_type": "stream",
     "text": [
      "1834\n"
     ]
    }
   ],
   "source": [
    "#Step 15.  Count orders were made in the period.\n",
    "num_orders = chipo['order_id'].nunique()\n",
    "print(num_orders)"
   ]
  },
  {
   "cell_type": "code",
   "execution_count": 143,
   "id": "88d4e56d",
   "metadata": {},
   "outputs": [
    {
     "name": "stdout",
     "output_type": "stream",
     "text": [
      "21.39423118865867\n"
     ]
    }
   ],
   "source": [
    "#Step 16. Calculate the average revenue amount per order.\n",
    "average_revenue_per_order = revenue / num_orders\n",
    "print(average_revenue_per_order)"
   ]
  },
  {
   "cell_type": "code",
   "execution_count": 144,
   "id": "80dafb7e",
   "metadata": {},
   "outputs": [
    {
     "name": "stdout",
     "output_type": "stream",
     "text": [
      "50\n"
     ]
    }
   ],
   "source": [
    "#Step 17. Count different items are sold.\n",
    "num_different_items = chipo['item_name'].nunique()\n",
    "print(num_different_items)"
   ]
  },
  {
   "cell_type": "markdown",
   "id": "a8a225c1",
   "metadata": {},
   "source": [
    "# Question 6\n",
    "Create a line plot showing the number of marriages and divorces per capita in the \n",
    "U.S. between 1867 and 2014. Label both lines and show the legend.\n",
    "Don't forget to label your axes!\n"
   ]
  },
  {
   "cell_type": "code",
   "execution_count": 163,
   "id": "5130ec75",
   "metadata": {},
   "outputs": [
    {
     "data": {
      "image/png": "[encoded data removed]",
      "text/plain": [
       "<Figure size 1000x600 with 1 Axes>"
      ]
     },
     "metadata": {},
     "output_type": "display_data"
    }
   ],
   "source": [
    "import pandas as pd\n",
    "import matplotlib.pyplot as plt\n",
    "\n",
    "# Import the dataset from this address:\n",
    "file_path = \"C:\\\\Users\\\\39440\\\\Desktop\\\\BDAT\\\\BDAT1004(Data Programming)\\\\assignment\\\\BDAT 1004  Problem Set 3\\\\us-marriages-divorces-1867-2014.csv\"\n",
    "\n",
    "# Read the CSV data into a pandas DataFrame\n",
    "data = pd.read_csv(file_path)\n",
    "\n",
    "# Extract the required columns\n",
    "years = data['Year']\n",
    "marriages_per_capita = data['Marriages_per_1000']\n",
    "divorces_per_capita = data['Divorces_per_1000']\n",
    "\n",
    "# Create the line plot\n",
    "plt.figure(figsize=(10, 6))\n",
    "plt.plot(years, marriages_per_capita, label='Marriages per Capita', color='blue', marker='o')\n",
    "plt.plot(years, divorces_per_capita, label='Divorces per Capita', color='red', marker='s')\n",
    "\n",
    "# Add labels and title\n",
    "plt.xlabel('Year')\n",
    "plt.ylabel('Number of Marriages and Divorces per Capita')\n",
    "plt.title('Marriages and Divorces per Capita in the U.S. (1867-2014)')\n",
    "\n",
    "# Show the legend\n",
    "plt.legend()\n",
    "\n",
    "# Show the line plot\n",
    "plt.grid(True)\n",
    "plt.tight_layout()\n",
    "plt.show()\n"
   ]
  },
  {
   "cell_type": "markdown",
   "id": "5a7023d3",
   "metadata": {},
   "source": [
    "# Question 7\n",
    "Create a vertical bar chart comparing the number of marriages and divorces per \n",
    "capita in the U.S. between 1900, 1950, and 2000.\n",
    "Don't forget to label your axes!"
   ]
  },
  {
   "cell_type": "code",
   "execution_count": 154,
   "id": "b607747b",
   "metadata": {},
   "outputs": [
    {
     "data": {
      "image/png": "[encoded data removed]",
      "text/plain": [
       "<Figure size 1000x600 with 1 Axes>"
      ]
     },
     "metadata": {},
     "output_type": "display_data"
    }
   ],
   "source": [
    "# Import the dataset from this address:\n",
    "file_path = \"C:\\\\Users\\\\39440\\\\Desktop\\\\BDAT\\\\BDAT1004(Data Programming)\\\\assignment\\\\BDAT 1004  Problem Set 3\\\\us-marriages-divorces-1867-2014.csv\"\n",
    "\n",
    "# Read the CSV data into a pandas DataFrame\n",
    "data = pd.read_csv(file_path)\n",
    "\n",
    "# Filter the data for years 1900, 1950, and 2000\n",
    "years = [1900, 1950, 2000]\n",
    "filtered_data = data[data['Year'].isin(years)]\n",
    "\n",
    "# Extract the required columns\n",
    "years = filtered_data['Year']\n",
    "marriages_per_capita = filtered_data['Marriages_per_1000']\n",
    "divorces_per_capita = filtered_data['Divorces_per_1000']\n",
    "\n",
    "# Create the vertical bar chart\n",
    "plt.figure(figsize=(10, 6))\n",
    "plt.bar(years, marriages_per_capita, width=0.4, label='Marriages per Capita', align='center', color='b')\n",
    "plt.bar(years, divorces_per_capita, width=0.4, label='Divorces per Capita', align='edge', color='r')\n",
    "\n",
    "# Add labels and title\n",
    "plt.xlabel('Year')\n",
    "plt.ylabel('Marriages and Divorces per Capita')\n",
    "plt.title('Number of Marriages and Divorces per Capita in the U.S. (1900, 1950, and 2000)')\n",
    "plt.legend()\n",
    "\n",
    "# Show the chart\n",
    "plt.show()\n"
   ]
  },
  {
   "cell_type": "markdown",
   "id": "7e24c949",
   "metadata": {},
   "source": [
    "# Question 8\n",
    "Create a horizontal bar chart that compares the deadliest actors in Hollywood. Sort \n",
    "the actors by their kill count and label each bar with the corresponding actor's name.\n",
    "Don't forget to label your axes!"
   ]
  },
  {
   "cell_type": "code",
   "execution_count": 158,
   "id": "500cc173",
   "metadata": {},
   "outputs": [
    {
     "data": {
      "image/png": "[encoded data removed]",
      "text/plain": [
       "<Figure size 1000x600 with 1 Axes>"
      ]
     },
     "metadata": {},
     "output_type": "display_data"
    }
   ],
   "source": [
    "import pandas as pd\n",
    "import matplotlib.pyplot as plt\n",
    "\n",
    "# Import the dataset from this address:\n",
    "file_path = \"C:\\\\Users\\\\39440\\\\Desktop\\\\BDAT\\\\BDAT1004(Data Programming)\\\\assignment\\\\BDAT 1004  Problem Set 3\\\\actor_kill_counts.csv\"\n",
    "\n",
    "# Read the CSV data into a pandas DataFrame\n",
    "data = pd.read_csv(file_path)\n",
    "\n",
    "# Sort the data by kill count in descending order\n",
    "sorted_data = data.sort_values(by='Count', ascending=False)  # Use the correct column name 'Count'\n",
    "\n",
    "# Extract the required columns\n",
    "actors = sorted_data['Actor']\n",
    "kill_counts = sorted_data['Count']  # Use the correct column name 'Count'\n",
    "\n",
    "# Create the horizontal bar chart\n",
    "plt.figure(figsize=(10, 6))\n",
    "plt.barh(actors, kill_counts, color='purple')\n",
    "\n",
    "# Add labels and title\n",
    "plt.xlabel('Kill Count')\n",
    "plt.ylabel('Actor')\n",
    "plt.title('Deadliest Actors in Hollywood (Sorted by Kill Count)')\n",
    "\n",
    "# Add labels to each bar\n",
    "for index, value in enumerate(kill_counts):\n",
    "    plt.text(value, index, str(value), color='black', ha='left', va='center')\n",
    "\n",
    "# Show the chart\n",
    "plt.tight_layout()\n",
    "plt.show()"
   ]
  },
  {
   "cell_type": "markdown",
   "id": "bed481e6",
   "metadata": {},
   "source": [
    "# Question 9\n",
    "Create a pie chart showing the fraction of all Roman Emperors that were \n",
    "assassinated."
   ]
  },
  {
   "cell_type": "code",
   "execution_count": 161,
   "id": "e2d601a0",
   "metadata": {},
   "outputs": [
    {
     "data": {
      "image/png": "[encoded data removed]",
      "text/plain": [
       "<Figure size 800x800 with 1 Axes>"
      ]
     },
     "metadata": {},
     "output_type": "display_data"
    }
   ],
   "source": [
    "import pandas as pd\n",
    "import matplotlib.pyplot as plt\n",
    "\n",
    "# Import the dataset from this address:\n",
    "file_path = \"C:\\\\Users\\\\39440\\\\Desktop\\\\BDAT\\\\BDAT1004(Data Programming)\\\\assignment\\\\BDAT 1004  Problem Set 3\\\\roman-emperor-reigns.csv\"\n",
    "\n",
    "# Read the CSV data into a pandas DataFrame\n",
    "data = pd.read_csv(file_path)\n",
    "\n",
    "# Count the number of assassinations and non-assassinations\n",
    "assassinated_count = (data['Cause_of_Death'] == 'Assassinated').sum()\n",
    "non_assassinated_count = len(data) - assassinated_count\n",
    "\n",
    "# Create the pie chart\n",
    "labels = ['Assassinated', 'Non-Assassinated']\n",
    "sizes = [assassinated_count, non_assassinated_count]\n",
    "colors = ['red', 'green']\n",
    "explode = (0.1, 0)  # Explode the first slice (Assassinated) for emphasis\n",
    "\n",
    "plt.figure(figsize=(8, 8))\n",
    "plt.pie(sizes, explode=explode, labels=labels, colors=colors, autopct='%1.1f%%', shadow=True, startangle=140)\n",
    "plt.axis('equal')  # Equal aspect ratio ensures that the pie chart is a circle.\n",
    "\n",
    "# Add a title\n",
    "plt.title('Fraction of Roman Emperors that were Assassinated')\n",
    "\n",
    "# Show the pie chart\n",
    "plt.show()"
   ]
  },
  {
   "cell_type": "markdown",
   "id": "fbc496b7",
   "metadata": {},
   "source": [
    "# Question 10\n",
    "Create a scatter plot showing the relationship between the total revenue earned by \n",
    "arcades and the number of Computer Science PhDs awarded in the U.S. between \n",
    "2000 and 2009.\n",
    "Don't forget to label your axes!\n",
    "Color each dot according to its year."
   ]
  },
  {
   "cell_type": "code",
   "execution_count": 162,
   "id": "9c48eecc",
   "metadata": {},
   "outputs": [
    {
     "data": {
      "image/png": "[encoded data removed]",
      "text/plain": [
       "<Figure size 1000x600 with 2 Axes>"
      ]
     },
     "metadata": {},
     "output_type": "display_data"
    }
   ],
   "source": [
    "import pandas as pd\n",
    "import matplotlib.pyplot as plt\n",
    "\n",
    "# Import the dataset from this address:\n",
    "file_path = \"C:\\\\Users\\\\39440\\\\Desktop\\\\BDAT\\\\BDAT1004(Data Programming)\\\\assignment\\\\BDAT 1004  Problem Set 3\\\\arcade-revenue-vs-cs-doctorates.csv\"\n",
    "\n",
    "# Read the CSV data into a pandas DataFrame\n",
    "data = pd.read_csv(file_path)\n",
    "\n",
    "# Extract the required columns\n",
    "revenue = data['Total Arcade Revenue (billions)']\n",
    "doctorates = data['Computer Science Doctorates Awarded (US)']\n",
    "years = data['Year']\n",
    "\n",
    "# Create the scatter plot\n",
    "plt.figure(figsize=(10, 6))\n",
    "plt.scatter(revenue, doctorates, c=years, cmap='viridis', alpha=0.8, edgecolors='k')\n",
    "\n",
    "# Add labels and title\n",
    "plt.xlabel('Total Arcade Revenue (billions)')\n",
    "plt.ylabel('Computer Science Doctorates Awarded (US)')\n",
    "plt.title('Relationship between Arcade Revenue and Computer Science PhDs (2000-2009)')\n",
    "\n",
    "# Add a colorbar for the years\n",
    "cbar = plt.colorbar()\n",
    "cbar.set_label('Year')\n",
    "\n",
    "# Show the scatter plot\n",
    "plt.show()"
   ]
  }
 ],
 "metadata": {
  "kernelspec": {
   "display_name": "Python 3 (ipykernel)",
   "language": "python",
   "name": "python3"
  },
  "language_info": {
   "codemirror_mode": {
    "name": "ipython",
    "version": 3
   },
   "file_extension": ".py",
   "mimetype": "text/x-python",
   "name": "python",
   "nbconvert_exporter": "python",
   "pygments_lexer": "ipython3",
   "version": "3.10.9"
  }
 },
 "nbformat": 4,
 "nbformat_minor": 5
}
